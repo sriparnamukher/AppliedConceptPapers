{
 "cells": [
  {
   "cell_type": "markdown",
   "id": "e561ad29-5962-40d1-ac78-a973c0dff6af",
   "metadata": {},
   "source": [
    "## Set up libraries etc"
   ]
  },
  {
   "cell_type": "code",
   "execution_count": 1,
   "id": "4c4eb8a5-f9c6-42bf-934e-ca431cd4a522",
   "metadata": {
    "tags": []
   },
   "outputs": [],
   "source": [
    "import warnings\n",
    "warnings.filterwarnings('ignore')\n",
    "%matplotlib inline\n",
    "\n",
    "import os\n",
    "import sqlalchemy\n",
    "import numpy as np\n",
    "import pandas as pd\n",
    "import matplotlib.pyplot as plt\n",
    "import seaborn as sns\n",
    "from sklearn.pipeline import make_pipeline\n",
    "from sklearn.impute import SimpleImputer\n",
    "from sklearn.preprocessing import StandardScaler, LabelEncoder\n",
    "from sklearn.feature_selection import RFECV\n",
    "from sklearn.model_selection import GridSearchCV\n",
    "from sklearn.model_selection import train_test_split\n",
    "from sklearn.model_selection import learning_curve\n",
    "from sklearn.model_selection import validation_curve\n",
    "from sklearn.model_selection import cross_val_score\n",
    "from sklearn.decomposition import PCA\n",
    "from sklearn.linear_model import LogisticRegression\n",
    "from sklearn.tree import DecisionTreeClassifier\n",
    "from sklearn.ensemble import RandomForestClassifier"
   ]
  },
  {
   "cell_type": "markdown",
   "id": "85e295d0-4a0c-4d99-8c63-e02899e354f1",
   "metadata": {},
   "source": [
    "## Read your credentials for accessing the COVID database from a file\n",
    "* In general, personal credentials should never be included in a code file that you will share"
   ]
  },
  {
   "cell_type": "markdown",
   "id": "3ac57a54-0c78-4fdc-8c6c-3a60b2bf2ce0",
   "metadata": {},
   "source": [
    "## Read the data"
   ]
  },
  {
   "cell_type": "code",
   "execution_count": 2,
   "id": "61b0ed13-f221-40f9-9ba6-caa43613464a",
   "metadata": {
    "tags": []
   },
   "outputs": [
    {
     "data": {
      "text/html": [
       "<div>\n",
       "<style scoped>\n",
       "    .dataframe tbody tr th:only-of-type {\n",
       "        vertical-align: middle;\n",
       "    }\n",
       "\n",
       "    .dataframe tbody tr th {\n",
       "        vertical-align: top;\n",
       "    }\n",
       "\n",
       "    .dataframe thead th {\n",
       "        text-align: right;\n",
       "    }\n",
       "</style>\n",
       "<table border=\"1\" class=\"dataframe\">\n",
       "  <thead>\n",
       "    <tr style=\"text-align: right;\">\n",
       "      <th></th>\n",
       "      <th>person_id</th>\n",
       "      <th>cov_dt</th>\n",
       "      <th>category</th>\n",
       "      <th>race_name</th>\n",
       "      <th>gen_name</th>\n",
       "      <th>current_age</th>\n",
       "      <th>measurement_name</th>\n",
       "      <th>measurement_date</th>\n",
       "      <th>value_as_number</th>\n",
       "      <th>unit_name</th>\n",
       "    </tr>\n",
       "  </thead>\n",
       "  <tbody>\n",
       "    <tr>\n",
       "      <th>0</th>\n",
       "      <td>68</td>\n",
       "      <td>2020-03-14</td>\n",
       "      <td>mild</td>\n",
       "      <td>White</td>\n",
       "      <td>MALE</td>\n",
       "      <td>72.0</td>\n",
       "      <td>Body temperature</td>\n",
       "      <td>2020-03-14</td>\n",
       "      <td>41.0</td>\n",
       "      <td>degree Celsius</td>\n",
       "    </tr>\n",
       "    <tr>\n",
       "      <th>1</th>\n",
       "      <td>68</td>\n",
       "      <td>2020-03-14</td>\n",
       "      <td>mild</td>\n",
       "      <td>White</td>\n",
       "      <td>MALE</td>\n",
       "      <td>72.0</td>\n",
       "      <td>Diastolic blood pressure</td>\n",
       "      <td>2020-03-14</td>\n",
       "      <td>76.0</td>\n",
       "      <td>millimeter mercury column</td>\n",
       "    </tr>\n",
       "    <tr>\n",
       "      <th>2</th>\n",
       "      <td>68</td>\n",
       "      <td>2020-03-14</td>\n",
       "      <td>mild</td>\n",
       "      <td>White</td>\n",
       "      <td>MALE</td>\n",
       "      <td>72.0</td>\n",
       "      <td>Heart rate</td>\n",
       "      <td>2020-03-14</td>\n",
       "      <td>139.8</td>\n",
       "      <td>per minute</td>\n",
       "    </tr>\n",
       "    <tr>\n",
       "      <th>3</th>\n",
       "      <td>68</td>\n",
       "      <td>2020-03-14</td>\n",
       "      <td>mild</td>\n",
       "      <td>White</td>\n",
       "      <td>MALE</td>\n",
       "      <td>72.0</td>\n",
       "      <td>Body weight</td>\n",
       "      <td>2020-03-14</td>\n",
       "      <td>86.1</td>\n",
       "      <td>kilogram</td>\n",
       "    </tr>\n",
       "    <tr>\n",
       "      <th>4</th>\n",
       "      <td>68</td>\n",
       "      <td>2020-03-14</td>\n",
       "      <td>mild</td>\n",
       "      <td>White</td>\n",
       "      <td>MALE</td>\n",
       "      <td>72.0</td>\n",
       "      <td>Systolic blood pressure</td>\n",
       "      <td>2020-03-14</td>\n",
       "      <td>135.0</td>\n",
       "      <td>millimeter mercury column</td>\n",
       "    </tr>\n",
       "    <tr>\n",
       "      <th>...</th>\n",
       "      <td>...</td>\n",
       "      <td>...</td>\n",
       "      <td>...</td>\n",
       "      <td>...</td>\n",
       "      <td>...</td>\n",
       "      <td>...</td>\n",
       "      <td>...</td>\n",
       "      <td>...</td>\n",
       "      <td>...</td>\n",
       "      <td>...</td>\n",
       "    </tr>\n",
       "    <tr>\n",
       "      <th>219917</th>\n",
       "      <td>124140</td>\n",
       "      <td>2020-03-16</td>\n",
       "      <td>moderate</td>\n",
       "      <td>White</td>\n",
       "      <td>FEMALE</td>\n",
       "      <td>65.0</td>\n",
       "      <td>Body weight</td>\n",
       "      <td>2020-03-21</td>\n",
       "      <td>65.9</td>\n",
       "      <td>kilogram</td>\n",
       "    </tr>\n",
       "    <tr>\n",
       "      <th>219918</th>\n",
       "      <td>124140</td>\n",
       "      <td>2020-03-16</td>\n",
       "      <td>moderate</td>\n",
       "      <td>White</td>\n",
       "      <td>FEMALE</td>\n",
       "      <td>65.0</td>\n",
       "      <td>Systolic blood pressure</td>\n",
       "      <td>2020-03-21</td>\n",
       "      <td>119.0</td>\n",
       "      <td>millimeter mercury column</td>\n",
       "    </tr>\n",
       "    <tr>\n",
       "      <th>219919</th>\n",
       "      <td>124140</td>\n",
       "      <td>2020-03-16</td>\n",
       "      <td>moderate</td>\n",
       "      <td>White</td>\n",
       "      <td>FEMALE</td>\n",
       "      <td>65.0</td>\n",
       "      <td>Oxygen saturation in Arterial blood</td>\n",
       "      <td>2020-03-21</td>\n",
       "      <td>76.9</td>\n",
       "      <td>percent</td>\n",
       "    </tr>\n",
       "    <tr>\n",
       "      <th>219920</th>\n",
       "      <td>124140</td>\n",
       "      <td>2020-03-16</td>\n",
       "      <td>moderate</td>\n",
       "      <td>White</td>\n",
       "      <td>FEMALE</td>\n",
       "      <td>65.0</td>\n",
       "      <td>Respiratory rate</td>\n",
       "      <td>2020-03-21</td>\n",
       "      <td>27.2</td>\n",
       "      <td>per minute</td>\n",
       "    </tr>\n",
       "    <tr>\n",
       "      <th>219921</th>\n",
       "      <td>124140</td>\n",
       "      <td>2020-03-16</td>\n",
       "      <td>moderate</td>\n",
       "      <td>White</td>\n",
       "      <td>FEMALE</td>\n",
       "      <td>65.0</td>\n",
       "      <td>Body temperature</td>\n",
       "      <td>2020-03-21</td>\n",
       "      <td>41.4</td>\n",
       "      <td>degree Celsius</td>\n",
       "    </tr>\n",
       "  </tbody>\n",
       "</table>\n",
       "<p>219922 rows × 10 columns</p>\n",
       "</div>"
      ],
      "text/plain": [
       "        person_id      cov_dt  category race_name gen_name  current_age  \\\n",
       "0              68  2020-03-14      mild     White     MALE         72.0   \n",
       "1              68  2020-03-14      mild     White     MALE         72.0   \n",
       "2              68  2020-03-14      mild     White     MALE         72.0   \n",
       "3              68  2020-03-14      mild     White     MALE         72.0   \n",
       "4              68  2020-03-14      mild     White     MALE         72.0   \n",
       "...           ...         ...       ...       ...      ...          ...   \n",
       "219917     124140  2020-03-16  moderate     White   FEMALE         65.0   \n",
       "219918     124140  2020-03-16  moderate     White   FEMALE         65.0   \n",
       "219919     124140  2020-03-16  moderate     White   FEMALE         65.0   \n",
       "219920     124140  2020-03-16  moderate     White   FEMALE         65.0   \n",
       "219921     124140  2020-03-16  moderate     White   FEMALE         65.0   \n",
       "\n",
       "                           measurement_name measurement_date  value_as_number  \\\n",
       "0                          Body temperature       2020-03-14             41.0   \n",
       "1                  Diastolic blood pressure       2020-03-14             76.0   \n",
       "2                                Heart rate       2020-03-14            139.8   \n",
       "3                               Body weight       2020-03-14             86.1   \n",
       "4                   Systolic blood pressure       2020-03-14            135.0   \n",
       "...                                     ...              ...              ...   \n",
       "219917                          Body weight       2020-03-21             65.9   \n",
       "219918              Systolic blood pressure       2020-03-21            119.0   \n",
       "219919  Oxygen saturation in Arterial blood       2020-03-21             76.9   \n",
       "219920                     Respiratory rate       2020-03-21             27.2   \n",
       "219921                     Body temperature       2020-03-21             41.4   \n",
       "\n",
       "                        unit_name  \n",
       "0                  degree Celsius  \n",
       "1       millimeter mercury column  \n",
       "2                      per minute  \n",
       "3                        kilogram  \n",
       "4       millimeter mercury column  \n",
       "...                           ...  \n",
       "219917                   kilogram  \n",
       "219918  millimeter mercury column  \n",
       "219919                    percent  \n",
       "219920                 per minute  \n",
       "219921             degree Celsius  \n",
       "\n",
       "[219922 rows x 10 columns]"
      ]
     },
     "execution_count": 2,
     "metadata": {},
     "output_type": "execute_result"
    }
   ],
   "source": [
    "person_data = pd.read_csv(\"data_covid.csv\")\n",
    "person_data"
   ]
  },
  {
   "cell_type": "markdown",
   "id": "d27ca3b9-d5d4-47cb-be63-6b96d7d81df1",
   "metadata": {},
   "source": [
    "## How many patients?"
   ]
  },
  {
   "cell_type": "code",
   "execution_count": 3,
   "id": "ce94fbb4-c2ac-4977-addb-01ade4fc8ae5",
   "metadata": {
    "tags": []
   },
   "outputs": [
    {
     "name": "stdout",
     "output_type": "stream",
     "text": [
      "Number of patients = 1763\n",
      "Number of patients with mild covid = 1003\n",
      "Number of patients with moderate covid = 541\n",
      "Number of patients with severe covid = 219\n"
     ]
    }
   ],
   "source": [
    "print(f\"Number of patients = {person_data['person_id'].nunique()}\")\n",
    "print(f\"Number of patients with mild covid = {person_data[person_data['category'] == 'mild']['person_id'].nunique()}\")\n",
    "print(f\"Number of patients with moderate covid = {person_data[person_data['category'] == 'moderate']['person_id'].nunique()}\")\n",
    "print(f\"Number of patients with severe covid = {person_data[person_data['category'] == 'severe']['person_id'].nunique()}\")"
   ]
  },
  {
   "cell_type": "markdown",
   "id": "11148345-24f9-474b-879b-19f00228dade",
   "metadata": {},
   "source": [
    "## How many unique categories are there?"
   ]
  },
  {
   "cell_type": "code",
   "execution_count": 4,
   "id": "8fffaf5e-5d3c-4ea0-a699-4e5f192c61d5",
   "metadata": {
    "tags": []
   },
   "outputs": [
    {
     "name": "stdout",
     "output_type": "stream",
     "text": [
      "Number of unique categories = ['mild' 'moderate' 'severe']\n",
      "['mild' 'moderate' 'severe']\n"
     ]
    }
   ],
   "source": [
    "uniq_cats = person_data['category'].unique()\n",
    "print(f\"Number of unique categories = {person_data['category'].unique()}\")\n",
    "print(uniq_cats)"
   ]
  },
  {
   "cell_type": "markdown",
   "id": "3fa80aa5-03f8-44c3-8e48-be0dba6f9653",
   "metadata": {},
   "source": [
    "## How many measurements are there in each of the categories?"
   ]
  },
  {
   "cell_type": "code",
   "execution_count": 5,
   "id": "04a80d5a-ebcc-4a10-9e7e-5ccbfc711e54",
   "metadata": {
    "tags": []
   },
   "outputs": [
    {
     "name": "stdout",
     "output_type": "stream",
     "text": [
      "Number of records with mild COVID is 7430\n",
      "Number of records with moderate COVID is 139518\n",
      "Number of records with severe COVID is 72974\n",
      "Number of records with severe COVID is 219922\n"
     ]
    }
   ],
   "source": [
    "mild_count = len(person_data[person_data['category'] == 'mild'])\n",
    "print(f\"Number of records with mild COVID is {mild_count}\")\n",
    "\n",
    "moderate_count = len(person_data[person_data['category'] == 'moderate'])\n",
    "print(f\"Number of records with moderate COVID is {moderate_count}\")  \n",
    "\n",
    "severe_count = len(person_data[person_data['category'] == 'severe'])\n",
    "print(f\"Number of records with severe COVID is {severe_count}\") \n",
    "\n",
    "total_count = len(person_data)\n",
    "print(f\"Number of records with severe COVID is {total_count}\") "
   ]
  },
  {
   "cell_type": "markdown",
   "id": "d165a894-f1c6-443a-9d3c-020b3fb316d8",
   "metadata": {},
   "source": [
    "## How many unique types of labs/vitals?"
   ]
  },
  {
   "cell_type": "code",
   "execution_count": 6,
   "id": "04060689-61c6-49d9-a105-e4cd4a9f8fe5",
   "metadata": {
    "tags": []
   },
   "outputs": [
    {
     "name": "stdout",
     "output_type": "stream",
     "text": [
      "Number of Labs and Vitals = 22\n",
      "['Body temperature' 'Diastolic blood pressure' 'Heart rate' 'Body weight'\n",
      " 'Systolic blood pressure' 'Oxygen saturation in Arterial blood'\n",
      " 'Respiratory rate' 'Erythrocytes [#/volume] in Blood by Automated count'\n",
      " 'Hemoglobin [Mass/volume] in Blood'\n",
      " 'Hematocrit [Volume Fraction] of Blood by Automated count'\n",
      " 'MCHC [Mass/volume] by Automated count'\n",
      " 'Glomerular filtration rate/1.73 sq M.predicted [Volume Rate/Area] in Serum, Plasma or Blood by Creatinine-based formula (MDRD)'\n",
      " 'Protein [Mass/volume] in Serum or Plasma'\n",
      " 'Alkaline phosphatase [Enzymatic activity/volume] in Serum or Plasma'\n",
      " 'Alanine aminotransferase [Enzymatic activity/volume] in Serum or Plasma'\n",
      " 'Aspartate aminotransferase [Enzymatic activity/volume] in Serum or Plasma'\n",
      " 'Leukocytes [#/volume] in Blood by Automated count'\n",
      " 'MCV [Entitic volume] by Automated count'\n",
      " 'MCH [Entitic mass] by Automated count'\n",
      " 'Platelets [#/volume] in Blood by Automated count'\n",
      " 'Albumin [Mass/volume] in Serum or Plasma'\n",
      " 'Bilirubin.total [Mass/volume] in Serum or Plasma']\n"
     ]
    }
   ],
   "source": [
    "labs_vitals = person_data['measurement_name'].unique()\n",
    "print(f\"Number of Labs and Vitals = {len(labs_vitals)}\")\n",
    "print(labs_vitals)"
   ]
  },
  {
   "cell_type": "markdown",
   "id": "da88faf2",
   "metadata": {},
   "source": [
    "## Create a summary table"
   ]
  },
  {
   "cell_type": "code",
   "execution_count": 7,
   "id": "ac5b9c56",
   "metadata": {},
   "outputs": [
    {
     "data": {
      "text/html": [
       "<div>\n",
       "<style scoped>\n",
       "    .dataframe tbody tr th:only-of-type {\n",
       "        vertical-align: middle;\n",
       "    }\n",
       "\n",
       "    .dataframe tbody tr th {\n",
       "        vertical-align: top;\n",
       "    }\n",
       "\n",
       "    .dataframe thead tr th {\n",
       "        text-align: left;\n",
       "    }\n",
       "</style>\n",
       "<table border=\"1\" class=\"dataframe\">\n",
       "  <thead>\n",
       "    <tr>\n",
       "      <th></th>\n",
       "      <th></th>\n",
       "      <th>Mild COVID</th>\n",
       "      <th>Moderate COVID</th>\n",
       "      <th>Severe COVID</th>\n",
       "    </tr>\n",
       "    <tr>\n",
       "      <th></th>\n",
       "      <th></th>\n",
       "      <th>n=1,003</th>\n",
       "      <th>n=541</th>\n",
       "      <th>n=219</th>\n",
       "    </tr>\n",
       "  </thead>\n",
       "  <tbody>\n",
       "    <tr>\n",
       "      <th rowspan=\"2\" valign=\"top\">sex</th>\n",
       "      <th>female</th>\n",
       "      <td>518(52%)</td>\n",
       "      <td>299(55%)</td>\n",
       "      <td>92(42%)</td>\n",
       "    </tr>\n",
       "    <tr>\n",
       "      <th>male</th>\n",
       "      <td>485(48%)</td>\n",
       "      <td>242(45%)</td>\n",
       "      <td>127(58%)</td>\n",
       "    </tr>\n",
       "    <tr>\n",
       "      <th rowspan=\"4\" valign=\"top\">age</th>\n",
       "      <th>&lt;18</th>\n",
       "      <td>186(19%)</td>\n",
       "      <td>35(6%)</td>\n",
       "      <td>2(1%)</td>\n",
       "    </tr>\n",
       "    <tr>\n",
       "      <th>18-45</th>\n",
       "      <td>403(40%)</td>\n",
       "      <td>159(29%)</td>\n",
       "      <td>14(6%)</td>\n",
       "    </tr>\n",
       "    <tr>\n",
       "      <th>46-65</th>\n",
       "      <td>234(23%)</td>\n",
       "      <td>204(38%)</td>\n",
       "      <td>62(28%)</td>\n",
       "    </tr>\n",
       "    <tr>\n",
       "      <th>&gt;65</th>\n",
       "      <td>180(18%)</td>\n",
       "      <td>143(26%)</td>\n",
       "      <td>141(64%)</td>\n",
       "    </tr>\n",
       "    <tr>\n",
       "      <th rowspan=\"4\" valign=\"top\">race</th>\n",
       "      <th>asian</th>\n",
       "      <td>57(6%)</td>\n",
       "      <td>40(7%)</td>\n",
       "      <td>17(8%)</td>\n",
       "    </tr>\n",
       "    <tr>\n",
       "      <th>black or african american</th>\n",
       "      <td>113(11%)</td>\n",
       "      <td>38(7%)</td>\n",
       "      <td>12(5%)</td>\n",
       "    </tr>\n",
       "    <tr>\n",
       "      <th>no matching concept</th>\n",
       "      <td>7(1%)</td>\n",
       "      <td>6(1%)</td>\n",
       "      <td>NaN</td>\n",
       "    </tr>\n",
       "    <tr>\n",
       "      <th>white</th>\n",
       "      <td>826(82%)</td>\n",
       "      <td>457(84%)</td>\n",
       "      <td>190(87%)</td>\n",
       "    </tr>\n",
       "  </tbody>\n",
       "</table>\n",
       "</div>"
      ],
      "text/plain": [
       "                               Mild COVID Moderate COVID Severe COVID\n",
       "                                  n=1,003          n=541        n=219\n",
       "sex  female                      518(52%)       299(55%)      92(42%)\n",
       "     male                        485(48%)       242(45%)     127(58%)\n",
       "age  <18                         186(19%)         35(6%)        2(1%)\n",
       "     18-45                       403(40%)       159(29%)       14(6%)\n",
       "     46-65                       234(23%)       204(38%)      62(28%)\n",
       "     >65                         180(18%)       143(26%)     141(64%)\n",
       "race asian                         57(6%)         40(7%)       17(8%)\n",
       "     black or african american   113(11%)         38(7%)       12(5%)\n",
       "     no matching concept            7(1%)          6(1%)          NaN\n",
       "     white                       826(82%)       457(84%)     190(87%)"
      ]
     },
     "metadata": {},
     "output_type": "display_data"
    }
   ],
   "source": [
    "# Create a summary table of the patients\n",
    "# Select demographic information of patients\n",
    "person_demog = person_data[['person_id', 'category', 'race_name', 'gen_name', 'current_age']].drop_duplicates()\n",
    "# Create bins for the age\n",
    "bins=[0, 18, 46, 66, np.inf]\n",
    "labels=['<18', '18-45', '46-65', '>65']\n",
    "person_demog['age_group'] = pd.cut(person_demog['current_age'], bins=bins, labels=labels, right=False)\n",
    "person_demog\n",
    "# Count patients by category\n",
    "person_demog_count_by_category = person_demog.groupby('category').size()\n",
    "person_demog_count_by_category_format = person_demog_count_by_category.apply(lambda x: f\"n={x:,}\") #format the values\n",
    "person_demog_count_by_category_format\n",
    "# Create column headers\n",
    "column_headers = list(map(lambda x: str.capitalize(x[0])+' COVID\\nn='+f\"{x[1]:,}\",zip(person_demog_count_by_category.index.values,person_demog_count_by_category.values)))\n",
    "# Count patients by category and sex\n",
    "person_demog_count_by_category_sex = person_demog.groupby(['category', 'gen_name']).size()\n",
    "person_demog_count_by_category_sex_percent = (person_demog_count_by_category_sex/person_demog_count_by_category) \n",
    "s1 = pd.Series(map(lambda x:f\"{x[0]:,}({x[1]*100:.0f}%)\", zip(person_demog_count_by_category_sex, person_demog_count_by_category_sex_percent)), index=person_demog_count_by_category_sex.index)  \n",
    "# Count patients by category and age\n",
    "person_demog_count_by_category_age = person_demog.groupby(['category', 'age_group']).size().rename(\"Count_by_cat_age\")\n",
    "person_demog_count_by_category_age_percent = (person_demog_count_by_category_age/person_demog_count_by_category).rename(\"Percent_by_cat_age\")\n",
    "s2 = pd.Series(map(lambda x:f\"{x[0]:,}({x[1]*100:.0f}%)\", zip(person_demog_count_by_category_age, person_demog_count_by_category_age_percent)), index=person_demog_count_by_category_age.index)  \n",
    "# Count patients by category and race\n",
    "person_demog_count_by_category_race = person_demog.groupby(['category', 'race_name']).size().rename(\"Count_by_cat_race\")\n",
    "person_demog_count_by_category_race_percent = (person_demog_count_by_category_race/person_demog_count_by_category).rename(\"Percent_by_cat_race\")\n",
    "s3 = pd.Series(map(lambda x:f\"{x[0]:,}({x[1]*100:.0f}%)\", zip(person_demog_count_by_category_race, person_demog_count_by_category_race_percent)), index=person_demog_count_by_category_race.index)\n",
    "# Convert the categories as column and create multiindex\n",
    "df1, df2, df3 = s1.unstack(level=0), s2.unstack(level=0), s3.unstack(level=0)\n",
    "df1.index.name, df2.index.name, df3.index.name  = 'sex', 'age', 'race' \n",
    "df1.index = pd.MultiIndex.from_tuples([(df1.index.name,str.lower(i)) for i in df1.index.values])\n",
    "df2.index = pd.MultiIndex.from_tuples([(df2.index.name,str.lower(i)) for i in df2.index.values])\n",
    "df3.index = pd.MultiIndex.from_tuples([(df3.index.name,str.lower(i)) for i in df3.index.values])\n",
    "# Combine all\n",
    "full_table = pd.concat([df1, df2, df3])\n",
    "# Change the columns to Multiindex\n",
    "full_table.columns = pd.MultiIndex.from_tuples([tuple(i.split('\\n')) for i in column_headers])\n",
    "# Display the summary table\n",
    "display(full_table)"
   ]
  },
  {
   "cell_type": "markdown",
   "id": "5647889e-71e5-4891-97fe-2a7f1f07f0e2",
   "metadata": {},
   "source": [
    "## Add a column to the data frame that has the number of days since the index date\n",
    "* Let us call this column `ddays`"
   ]
  },
  {
   "cell_type": "markdown",
   "id": "94318cee-e64c-48c6-91db-0ad7df74ad37",
   "metadata": {},
   "source": [
    "### Convert the date columns to date_time objects from strings\n",
    "* It is a lot easier to compute date differences that way"
   ]
  },
  {
   "cell_type": "markdown",
   "id": "ce527cd9-f8f5-419c-a77b-68b141619651",
   "metadata": {},
   "source": [
    "#### First confirm that the dates in `person_data` are indeed strings"
   ]
  },
  {
   "cell_type": "code",
   "execution_count": 8,
   "id": "55154de8-85b0-41f5-8b15-5b42085a0bb4",
   "metadata": {
    "tags": []
   },
   "outputs": [
    {
     "data": {
      "text/plain": [
       "person_id             int64\n",
       "cov_dt               object\n",
       "category             object\n",
       "race_name            object\n",
       "gen_name             object\n",
       "current_age         float64\n",
       "measurement_name     object\n",
       "measurement_date     object\n",
       "value_as_number     float64\n",
       "unit_name            object\n",
       "dtype: object"
      ]
     },
     "execution_count": 8,
     "metadata": {},
     "output_type": "execute_result"
    }
   ],
   "source": [
    "person_data.dtypes"
   ]
  },
  {
   "cell_type": "code",
   "execution_count": 9,
   "id": "e07e5925-f0e9-4d09-9aad-9fce8fac8e39",
   "metadata": {
    "tags": []
   },
   "outputs": [
    {
     "data": {
      "text/plain": [
       "pandas.core.series.Series"
      ]
     },
     "execution_count": 9,
     "metadata": {},
     "output_type": "execute_result"
    }
   ],
   "source": [
    "type(person_data['cov_dt'])"
   ]
  },
  {
   "cell_type": "code",
   "execution_count": 10,
   "id": "f2196849-55f6-47f4-a5b5-5ecba89aee91",
   "metadata": {
    "tags": []
   },
   "outputs": [
    {
     "data": {
      "text/plain": [
       "str"
      ]
     },
     "execution_count": 10,
     "metadata": {},
     "output_type": "execute_result"
    }
   ],
   "source": [
    "type(person_data.iloc[0]['cov_dt'])"
   ]
  },
  {
   "cell_type": "markdown",
   "id": "9a52f1e7-127f-4f2d-8ff6-20daa5b23aa2",
   "metadata": {},
   "source": [
    "#### Let us change the dates in `person_data` to be of type date_time"
   ]
  },
  {
   "cell_type": "code",
   "execution_count": 11,
   "id": "03cc1ad5-a8c0-4df2-8387-8149fe6b3310",
   "metadata": {
    "tags": []
   },
   "outputs": [
    {
     "data": {
      "text/plain": [
       "pandas._libs.tslibs.timestamps.Timestamp"
      ]
     },
     "execution_count": 11,
     "metadata": {},
     "output_type": "execute_result"
    }
   ],
   "source": [
    "person_data[\"measurement_date\"] = pd.to_datetime(person_data[\"measurement_date\"])\n",
    "type(person_data.iloc[0][\"measurement_date\"])"
   ]
  },
  {
   "cell_type": "code",
   "execution_count": 12,
   "id": "808aec3f-dda5-48d9-84a8-2db8575da025",
   "metadata": {
    "tags": []
   },
   "outputs": [
    {
     "data": {
      "text/plain": [
       "pandas._libs.tslibs.timestamps.Timestamp"
      ]
     },
     "execution_count": 12,
     "metadata": {},
     "output_type": "execute_result"
    }
   ],
   "source": [
    "person_data[\"cov_dt\"] = pd.to_datetime(person_data[\"cov_dt\"])\n",
    "type(person_data.iloc[0][\"cov_dt\"])"
   ]
  },
  {
   "cell_type": "markdown",
   "id": "8d9c9ac2-26c7-4635-9723-c6314308354e",
   "metadata": {},
   "source": [
    "#### Add a column to `person_data` that is the difference in days between the `measurement_date` and `cov_dt`"
   ]
  },
  {
   "cell_type": "code",
   "execution_count": 13,
   "id": "f2d72470-3249-42c3-a063-d8b140a9b19e",
   "metadata": {
    "tags": []
   },
   "outputs": [
    {
     "data": {
      "text/plain": [
       "pandas._libs.tslibs.timedeltas.Timedelta"
      ]
     },
     "execution_count": 13,
     "metadata": {},
     "output_type": "execute_result"
    }
   ],
   "source": [
    "person_data['ddays'] = (person_data[\"measurement_date\"] - person_data[\"cov_dt\"])\n",
    "type(person_data.iloc[0][\"ddays\"])"
   ]
  },
  {
   "cell_type": "code",
   "execution_count": 14,
   "id": "0e249cbd-1f6d-4720-8873-8b2b1527706d",
   "metadata": {
    "tags": []
   },
   "outputs": [
    {
     "data": {
      "text/html": [
       "<div>\n",
       "<style scoped>\n",
       "    .dataframe tbody tr th:only-of-type {\n",
       "        vertical-align: middle;\n",
       "    }\n",
       "\n",
       "    .dataframe tbody tr th {\n",
       "        vertical-align: top;\n",
       "    }\n",
       "\n",
       "    .dataframe thead th {\n",
       "        text-align: right;\n",
       "    }\n",
       "</style>\n",
       "<table border=\"1\" class=\"dataframe\">\n",
       "  <thead>\n",
       "    <tr style=\"text-align: right;\">\n",
       "      <th></th>\n",
       "      <th>person_id</th>\n",
       "      <th>cov_dt</th>\n",
       "      <th>category</th>\n",
       "      <th>race_name</th>\n",
       "      <th>gen_name</th>\n",
       "      <th>current_age</th>\n",
       "      <th>measurement_name</th>\n",
       "      <th>measurement_date</th>\n",
       "      <th>value_as_number</th>\n",
       "      <th>unit_name</th>\n",
       "      <th>ddays</th>\n",
       "    </tr>\n",
       "  </thead>\n",
       "  <tbody>\n",
       "    <tr>\n",
       "      <th>0</th>\n",
       "      <td>68</td>\n",
       "      <td>2020-03-14</td>\n",
       "      <td>mild</td>\n",
       "      <td>White</td>\n",
       "      <td>MALE</td>\n",
       "      <td>72.0</td>\n",
       "      <td>Body temperature</td>\n",
       "      <td>2020-03-14</td>\n",
       "      <td>41.0</td>\n",
       "      <td>degree Celsius</td>\n",
       "      <td>0 days</td>\n",
       "    </tr>\n",
       "    <tr>\n",
       "      <th>1</th>\n",
       "      <td>68</td>\n",
       "      <td>2020-03-14</td>\n",
       "      <td>mild</td>\n",
       "      <td>White</td>\n",
       "      <td>MALE</td>\n",
       "      <td>72.0</td>\n",
       "      <td>Diastolic blood pressure</td>\n",
       "      <td>2020-03-14</td>\n",
       "      <td>76.0</td>\n",
       "      <td>millimeter mercury column</td>\n",
       "      <td>0 days</td>\n",
       "    </tr>\n",
       "    <tr>\n",
       "      <th>2</th>\n",
       "      <td>68</td>\n",
       "      <td>2020-03-14</td>\n",
       "      <td>mild</td>\n",
       "      <td>White</td>\n",
       "      <td>MALE</td>\n",
       "      <td>72.0</td>\n",
       "      <td>Heart rate</td>\n",
       "      <td>2020-03-14</td>\n",
       "      <td>139.8</td>\n",
       "      <td>per minute</td>\n",
       "      <td>0 days</td>\n",
       "    </tr>\n",
       "    <tr>\n",
       "      <th>3</th>\n",
       "      <td>68</td>\n",
       "      <td>2020-03-14</td>\n",
       "      <td>mild</td>\n",
       "      <td>White</td>\n",
       "      <td>MALE</td>\n",
       "      <td>72.0</td>\n",
       "      <td>Body weight</td>\n",
       "      <td>2020-03-14</td>\n",
       "      <td>86.1</td>\n",
       "      <td>kilogram</td>\n",
       "      <td>0 days</td>\n",
       "    </tr>\n",
       "    <tr>\n",
       "      <th>4</th>\n",
       "      <td>68</td>\n",
       "      <td>2020-03-14</td>\n",
       "      <td>mild</td>\n",
       "      <td>White</td>\n",
       "      <td>MALE</td>\n",
       "      <td>72.0</td>\n",
       "      <td>Systolic blood pressure</td>\n",
       "      <td>2020-03-14</td>\n",
       "      <td>135.0</td>\n",
       "      <td>millimeter mercury column</td>\n",
       "      <td>0 days</td>\n",
       "    </tr>\n",
       "    <tr>\n",
       "      <th>...</th>\n",
       "      <td>...</td>\n",
       "      <td>...</td>\n",
       "      <td>...</td>\n",
       "      <td>...</td>\n",
       "      <td>...</td>\n",
       "      <td>...</td>\n",
       "      <td>...</td>\n",
       "      <td>...</td>\n",
       "      <td>...</td>\n",
       "      <td>...</td>\n",
       "      <td>...</td>\n",
       "    </tr>\n",
       "    <tr>\n",
       "      <th>219917</th>\n",
       "      <td>124140</td>\n",
       "      <td>2020-03-16</td>\n",
       "      <td>moderate</td>\n",
       "      <td>White</td>\n",
       "      <td>FEMALE</td>\n",
       "      <td>65.0</td>\n",
       "      <td>Body weight</td>\n",
       "      <td>2020-03-21</td>\n",
       "      <td>65.9</td>\n",
       "      <td>kilogram</td>\n",
       "      <td>5 days</td>\n",
       "    </tr>\n",
       "    <tr>\n",
       "      <th>219918</th>\n",
       "      <td>124140</td>\n",
       "      <td>2020-03-16</td>\n",
       "      <td>moderate</td>\n",
       "      <td>White</td>\n",
       "      <td>FEMALE</td>\n",
       "      <td>65.0</td>\n",
       "      <td>Systolic blood pressure</td>\n",
       "      <td>2020-03-21</td>\n",
       "      <td>119.0</td>\n",
       "      <td>millimeter mercury column</td>\n",
       "      <td>5 days</td>\n",
       "    </tr>\n",
       "    <tr>\n",
       "      <th>219919</th>\n",
       "      <td>124140</td>\n",
       "      <td>2020-03-16</td>\n",
       "      <td>moderate</td>\n",
       "      <td>White</td>\n",
       "      <td>FEMALE</td>\n",
       "      <td>65.0</td>\n",
       "      <td>Oxygen saturation in Arterial blood</td>\n",
       "      <td>2020-03-21</td>\n",
       "      <td>76.9</td>\n",
       "      <td>percent</td>\n",
       "      <td>5 days</td>\n",
       "    </tr>\n",
       "    <tr>\n",
       "      <th>219920</th>\n",
       "      <td>124140</td>\n",
       "      <td>2020-03-16</td>\n",
       "      <td>moderate</td>\n",
       "      <td>White</td>\n",
       "      <td>FEMALE</td>\n",
       "      <td>65.0</td>\n",
       "      <td>Respiratory rate</td>\n",
       "      <td>2020-03-21</td>\n",
       "      <td>27.2</td>\n",
       "      <td>per minute</td>\n",
       "      <td>5 days</td>\n",
       "    </tr>\n",
       "    <tr>\n",
       "      <th>219921</th>\n",
       "      <td>124140</td>\n",
       "      <td>2020-03-16</td>\n",
       "      <td>moderate</td>\n",
       "      <td>White</td>\n",
       "      <td>FEMALE</td>\n",
       "      <td>65.0</td>\n",
       "      <td>Body temperature</td>\n",
       "      <td>2020-03-21</td>\n",
       "      <td>41.4</td>\n",
       "      <td>degree Celsius</td>\n",
       "      <td>5 days</td>\n",
       "    </tr>\n",
       "  </tbody>\n",
       "</table>\n",
       "<p>219922 rows × 11 columns</p>\n",
       "</div>"
      ],
      "text/plain": [
       "        person_id     cov_dt  category race_name gen_name  current_age  \\\n",
       "0              68 2020-03-14      mild     White     MALE         72.0   \n",
       "1              68 2020-03-14      mild     White     MALE         72.0   \n",
       "2              68 2020-03-14      mild     White     MALE         72.0   \n",
       "3              68 2020-03-14      mild     White     MALE         72.0   \n",
       "4              68 2020-03-14      mild     White     MALE         72.0   \n",
       "...           ...        ...       ...       ...      ...          ...   \n",
       "219917     124140 2020-03-16  moderate     White   FEMALE         65.0   \n",
       "219918     124140 2020-03-16  moderate     White   FEMALE         65.0   \n",
       "219919     124140 2020-03-16  moderate     White   FEMALE         65.0   \n",
       "219920     124140 2020-03-16  moderate     White   FEMALE         65.0   \n",
       "219921     124140 2020-03-16  moderate     White   FEMALE         65.0   \n",
       "\n",
       "                           measurement_name measurement_date  value_as_number  \\\n",
       "0                          Body temperature       2020-03-14             41.0   \n",
       "1                  Diastolic blood pressure       2020-03-14             76.0   \n",
       "2                                Heart rate       2020-03-14            139.8   \n",
       "3                               Body weight       2020-03-14             86.1   \n",
       "4                   Systolic blood pressure       2020-03-14            135.0   \n",
       "...                                     ...              ...              ...   \n",
       "219917                          Body weight       2020-03-21             65.9   \n",
       "219918              Systolic blood pressure       2020-03-21            119.0   \n",
       "219919  Oxygen saturation in Arterial blood       2020-03-21             76.9   \n",
       "219920                     Respiratory rate       2020-03-21             27.2   \n",
       "219921                     Body temperature       2020-03-21             41.4   \n",
       "\n",
       "                        unit_name  ddays  \n",
       "0                  degree Celsius 0 days  \n",
       "1       millimeter mercury column 0 days  \n",
       "2                      per minute 0 days  \n",
       "3                        kilogram 0 days  \n",
       "4       millimeter mercury column 0 days  \n",
       "...                           ...    ...  \n",
       "219917                   kilogram 5 days  \n",
       "219918  millimeter mercury column 5 days  \n",
       "219919                    percent 5 days  \n",
       "219920                 per minute 5 days  \n",
       "219921             degree Celsius 5 days  \n",
       "\n",
       "[219922 rows x 11 columns]"
      ]
     },
     "execution_count": 14,
     "metadata": {},
     "output_type": "execute_result"
    }
   ],
   "source": [
    "person_data"
   ]
  },
  {
   "cell_type": "markdown",
   "id": "bf7124dd-68d2-4009-a873-e94c040c8ded",
   "metadata": {},
   "source": [
    "#### `ddays` may not be usable as an index as it is. Let us make it of type iteger "
   ]
  },
  {
   "cell_type": "code",
   "execution_count": 15,
   "id": "3bbd013f-882f-443e-b639-cec912d279c5",
   "metadata": {
    "tags": []
   },
   "outputs": [
    {
     "data": {
      "text/plain": [
       "numpy.int64"
      ]
     },
     "execution_count": 15,
     "metadata": {},
     "output_type": "execute_result"
    }
   ],
   "source": [
    "person_data['ddays'] = (person_data[\"measurement_date\"] - person_data[\"cov_dt\"]).dt.days\n",
    "type(person_data.iloc[0][\"ddays\"])"
   ]
  },
  {
   "cell_type": "markdown",
   "id": "eb91c775-49b2-4e54-a456-ecf3538738cc",
   "metadata": {},
   "source": [
    "#### Do a quick check that the dataframe looks right"
   ]
  },
  {
   "cell_type": "code",
   "execution_count": 16,
   "id": "0a5c9aa7-aa6c-4131-86e0-13ea7f4710ce",
   "metadata": {
    "tags": []
   },
   "outputs": [
    {
     "data": {
      "text/html": [
       "<div>\n",
       "<style scoped>\n",
       "    .dataframe tbody tr th:only-of-type {\n",
       "        vertical-align: middle;\n",
       "    }\n",
       "\n",
       "    .dataframe tbody tr th {\n",
       "        vertical-align: top;\n",
       "    }\n",
       "\n",
       "    .dataframe thead th {\n",
       "        text-align: right;\n",
       "    }\n",
       "</style>\n",
       "<table border=\"1\" class=\"dataframe\">\n",
       "  <thead>\n",
       "    <tr style=\"text-align: right;\">\n",
       "      <th></th>\n",
       "      <th>person_id</th>\n",
       "      <th>cov_dt</th>\n",
       "      <th>category</th>\n",
       "      <th>race_name</th>\n",
       "      <th>gen_name</th>\n",
       "      <th>current_age</th>\n",
       "      <th>measurement_name</th>\n",
       "      <th>measurement_date</th>\n",
       "      <th>value_as_number</th>\n",
       "      <th>unit_name</th>\n",
       "      <th>ddays</th>\n",
       "    </tr>\n",
       "  </thead>\n",
       "  <tbody>\n",
       "    <tr>\n",
       "      <th>0</th>\n",
       "      <td>68</td>\n",
       "      <td>2020-03-14</td>\n",
       "      <td>mild</td>\n",
       "      <td>White</td>\n",
       "      <td>MALE</td>\n",
       "      <td>72.0</td>\n",
       "      <td>Body temperature</td>\n",
       "      <td>2020-03-14</td>\n",
       "      <td>41.0</td>\n",
       "      <td>degree Celsius</td>\n",
       "      <td>0</td>\n",
       "    </tr>\n",
       "    <tr>\n",
       "      <th>1</th>\n",
       "      <td>68</td>\n",
       "      <td>2020-03-14</td>\n",
       "      <td>mild</td>\n",
       "      <td>White</td>\n",
       "      <td>MALE</td>\n",
       "      <td>72.0</td>\n",
       "      <td>Diastolic blood pressure</td>\n",
       "      <td>2020-03-14</td>\n",
       "      <td>76.0</td>\n",
       "      <td>millimeter mercury column</td>\n",
       "      <td>0</td>\n",
       "    </tr>\n",
       "    <tr>\n",
       "      <th>2</th>\n",
       "      <td>68</td>\n",
       "      <td>2020-03-14</td>\n",
       "      <td>mild</td>\n",
       "      <td>White</td>\n",
       "      <td>MALE</td>\n",
       "      <td>72.0</td>\n",
       "      <td>Heart rate</td>\n",
       "      <td>2020-03-14</td>\n",
       "      <td>139.8</td>\n",
       "      <td>per minute</td>\n",
       "      <td>0</td>\n",
       "    </tr>\n",
       "    <tr>\n",
       "      <th>3</th>\n",
       "      <td>68</td>\n",
       "      <td>2020-03-14</td>\n",
       "      <td>mild</td>\n",
       "      <td>White</td>\n",
       "      <td>MALE</td>\n",
       "      <td>72.0</td>\n",
       "      <td>Body weight</td>\n",
       "      <td>2020-03-14</td>\n",
       "      <td>86.1</td>\n",
       "      <td>kilogram</td>\n",
       "      <td>0</td>\n",
       "    </tr>\n",
       "    <tr>\n",
       "      <th>4</th>\n",
       "      <td>68</td>\n",
       "      <td>2020-03-14</td>\n",
       "      <td>mild</td>\n",
       "      <td>White</td>\n",
       "      <td>MALE</td>\n",
       "      <td>72.0</td>\n",
       "      <td>Systolic blood pressure</td>\n",
       "      <td>2020-03-14</td>\n",
       "      <td>135.0</td>\n",
       "      <td>millimeter mercury column</td>\n",
       "      <td>0</td>\n",
       "    </tr>\n",
       "  </tbody>\n",
       "</table>\n",
       "</div>"
      ],
      "text/plain": [
       "   person_id     cov_dt category race_name gen_name  current_age  \\\n",
       "0         68 2020-03-14     mild     White     MALE         72.0   \n",
       "1         68 2020-03-14     mild     White     MALE         72.0   \n",
       "2         68 2020-03-14     mild     White     MALE         72.0   \n",
       "3         68 2020-03-14     mild     White     MALE         72.0   \n",
       "4         68 2020-03-14     mild     White     MALE         72.0   \n",
       "\n",
       "           measurement_name measurement_date  value_as_number  \\\n",
       "0          Body temperature       2020-03-14             41.0   \n",
       "1  Diastolic blood pressure       2020-03-14             76.0   \n",
       "2                Heart rate       2020-03-14            139.8   \n",
       "3               Body weight       2020-03-14             86.1   \n",
       "4   Systolic blood pressure       2020-03-14            135.0   \n",
       "\n",
       "                   unit_name  ddays  \n",
       "0             degree Celsius      0  \n",
       "1  millimeter mercury column      0  \n",
       "2                 per minute      0  \n",
       "3                   kilogram      0  \n",
       "4  millimeter mercury column      0  "
      ]
     },
     "execution_count": 16,
     "metadata": {},
     "output_type": "execute_result"
    }
   ],
   "source": [
    "person_data.head()"
   ]
  },
  {
   "cell_type": "markdown",
   "id": "ddeb967a",
   "metadata": {},
   "source": [
    "## Create a dataframe for predictive analysis for the category of COVID"
   ]
  },
  {
   "cell_type": "markdown",
   "id": "ddcc9d5c",
   "metadata": {},
   "source": [
    "#### Pick measurements for all of the 14 days of hospital visit for each patient "
   ]
  },
  {
   "cell_type": "code",
   "execution_count": 17,
   "id": "7565a813",
   "metadata": {},
   "outputs": [
    {
     "name": "stdout",
     "output_type": "stream",
     "text": [
      "    person_id                     measurement_name  value_as_number  category\n",
      "0          68                     Body temperature             41.0      mild\n",
      "1          68             Diastolic blood pressure             76.0      mild\n",
      "2          68                           Heart rate            139.8      mild\n",
      "3          68                          Body weight             86.1      mild\n",
      "4          68              Systolic blood pressure            135.0      mild\n",
      "5          68  Oxygen saturation in Arterial blood             86.0      mild\n",
      "6          68                     Respiratory rate             19.8      mild\n",
      "7         160              Systolic blood pressure            124.0      mild\n",
      "8         160                     Respiratory rate             31.1      mild\n",
      "9         160                     Body temperature             41.1      mild\n",
      "10        160                          Body weight             70.0      mild\n",
      "11        160  Oxygen saturation in Arterial blood             77.7      mild\n",
      "12        160                           Heart rate            100.5      mild\n",
      "13        160             Diastolic blood pressure             74.0      mild\n",
      "14        234                     Respiratory rate             15.0      mild\n",
      "15        234                          Body weight             86.1      mild\n",
      "16        234                           Heart rate             79.0      mild\n",
      "17        234             Diastolic blood pressure             77.0      mild\n",
      "18        234              Systolic blood pressure            136.0      mild\n",
      "19        259                     Body temperature             38.4  moderate\n"
     ]
    }
   ],
   "source": [
    "# select the relevant columns\n",
    "person_data_all = person_data[['person_id', 'measurement_name', 'value_as_number', 'category']]\n",
    "print(person_data_all.head(20))"
   ]
  },
  {
   "cell_type": "markdown",
   "id": "9da79aaf",
   "metadata": {},
   "source": [
    "#### Arrange records by person_id as index and the measurements as columns. Mean value was considered for more than one measurements."
   ]
  },
  {
   "cell_type": "code",
   "execution_count": 18,
   "id": "e1fe73c0",
   "metadata": {},
   "outputs": [],
   "source": [
    "person_data_all_df = pd.pivot_table(data=person_data_all, index=['person_id','category'], columns='measurement_name', values='value_as_number',\n",
    "               aggfunc='mean')"
   ]
  },
  {
   "cell_type": "code",
   "execution_count": 19,
   "id": "60d6abaa",
   "metadata": {},
   "outputs": [
    {
     "name": "stdout",
     "output_type": "stream",
     "text": [
      "measurement_name    Alanine aminotransferase [Enzymatic activity/volume] in Serum or Plasma  \\\n",
      "person_id category                                                                            \n",
      "68        mild                                                    NaN                         \n",
      "160       mild                                                    NaN                         \n",
      "234       mild                                                    NaN                         \n",
      "259       moderate                                                NaN                         \n",
      "296       mild                                                    NaN                         \n",
      "354       moderate                                               26.4                         \n",
      "375       mild                                                    NaN                         \n",
      "647       mild                                                    NaN                         \n",
      "692       mild                                                    NaN                         \n",
      "738       mild                                                    NaN                         \n",
      "\n",
      "measurement_name    Albumin [Mass/volume] in Serum or Plasma  \\\n",
      "person_id category                                             \n",
      "68        mild                                           NaN   \n",
      "160       mild                                           NaN   \n",
      "234       mild                                           NaN   \n",
      "259       moderate                                       NaN   \n",
      "296       mild                                           NaN   \n",
      "354       moderate                                  4.122222   \n",
      "375       mild                                           NaN   \n",
      "647       mild                                           NaN   \n",
      "692       mild                                           NaN   \n",
      "738       mild                                           NaN   \n",
      "\n",
      "measurement_name    Alkaline phosphatase [Enzymatic activity/volume] in Serum or Plasma  \\\n",
      "person_id category                                                                        \n",
      "68        mild                                                    NaN                     \n",
      "160       mild                                                    NaN                     \n",
      "234       mild                                                    NaN                     \n",
      "259       moderate                                                NaN                     \n",
      "296       mild                                                    NaN                     \n",
      "354       moderate                                          72.966667                     \n",
      "375       mild                                                    NaN                     \n",
      "647       mild                                                    NaN                     \n",
      "692       mild                                                    NaN                     \n",
      "738       mild                                                    NaN                     \n",
      "\n",
      "measurement_name    Aspartate aminotransferase [Enzymatic activity/volume] in Serum or Plasma  \\\n",
      "person_id category                                                                              \n",
      "68        mild                                                    NaN                           \n",
      "160       mild                                                    NaN                           \n",
      "234       mild                                                    NaN                           \n",
      "259       moderate                                                NaN                           \n",
      "296       mild                                                    NaN                           \n",
      "354       moderate                                          18.222222                           \n",
      "375       mild                                                    NaN                           \n",
      "647       mild                                                    NaN                           \n",
      "692       mild                                                    NaN                           \n",
      "738       mild                                                    NaN                           \n",
      "\n",
      "measurement_name    Bilirubin.total [Mass/volume] in Serum or Plasma  \\\n",
      "person_id category                                                     \n",
      "68        mild                                                   NaN   \n",
      "160       mild                                                   NaN   \n",
      "234       mild                                                   NaN   \n",
      "259       moderate                                               NaN   \n",
      "296       mild                                                   NaN   \n",
      "354       moderate                                         10.755556   \n",
      "375       mild                                                   NaN   \n",
      "647       mild                                                   NaN   \n",
      "692       mild                                                   NaN   \n",
      "738       mild                                                   NaN   \n",
      "\n",
      "measurement_name    Body temperature  Body weight  Diastolic blood pressure  \\\n",
      "person_id category                                                            \n",
      "68        mild             41.000000         86.1                      76.0   \n",
      "160       mild             41.100000         70.0                      74.0   \n",
      "234       mild                   NaN         86.1                      77.0   \n",
      "259       moderate         38.400000         49.5                      85.0   \n",
      "296       mild             38.600000         75.6                      83.0   \n",
      "354       moderate         39.091667         79.4                      83.7   \n",
      "375       mild             42.000000        108.9                      72.0   \n",
      "647       mild             39.900000         80.6                      75.0   \n",
      "692       mild             38.400000         77.0                      85.0   \n",
      "738       mild             41.000000         88.9                      84.0   \n",
      "\n",
      "measurement_name    Erythrocytes [#/volume] in Blood by Automated count  \\\n",
      "person_id category                                                        \n",
      "68        mild                                                    NaN     \n",
      "160       mild                                                    NaN     \n",
      "234       mild                                                    NaN     \n",
      "259       moderate                                                NaN     \n",
      "296       mild                                                    NaN     \n",
      "354       moderate                                           4.566667     \n",
      "375       mild                                                    NaN     \n",
      "647       mild                                                    NaN     \n",
      "692       mild                                                    NaN     \n",
      "738       mild                                                    NaN     \n",
      "\n",
      "measurement_name    Glomerular filtration rate/1.73 sq M.predicted [Volume Rate/Area] in Serum, Plasma or Blood by Creatinine-based formula (MDRD)  \\\n",
      "person_id category                                                                                                                                   \n",
      "68        mild                                                    NaN                                                                                \n",
      "160       mild                                                    NaN                                                                                \n",
      "234       mild                                                    NaN                                                                                \n",
      "259       moderate                                                NaN                                                                                \n",
      "296       mild                                                    NaN                                                                                \n",
      "354       moderate                                          10.166667                                                                                \n",
      "375       mild                                                    NaN                                                                                \n",
      "647       mild                                                    NaN                                                                                \n",
      "692       mild                                                    NaN                                                                                \n",
      "738       mild                                                    NaN                                                                                \n",
      "\n",
      "measurement_name    ...  Hemoglobin [Mass/volume] in Blood  \\\n",
      "person_id category  ...                                      \n",
      "68        mild      ...                                NaN   \n",
      "160       mild      ...                                NaN   \n",
      "234       mild      ...                                NaN   \n",
      "259       moderate  ...                                NaN   \n",
      "296       mild      ...                                NaN   \n",
      "354       moderate  ...                          12.755556   \n",
      "375       mild      ...                                NaN   \n",
      "647       mild      ...                                NaN   \n",
      "692       mild      ...                                NaN   \n",
      "738       mild      ...                                NaN   \n",
      "\n",
      "measurement_name    Leukocytes [#/volume] in Blood by Automated count  \\\n",
      "person_id category                                                      \n",
      "68        mild                                                    NaN   \n",
      "160       mild                                                    NaN   \n",
      "234       mild                                                    NaN   \n",
      "259       moderate                                                NaN   \n",
      "296       mild                                                    NaN   \n",
      "354       moderate                                           3.455556   \n",
      "375       mild                                                    NaN   \n",
      "647       mild                                                    NaN   \n",
      "692       mild                                                    NaN   \n",
      "738       mild                                                    NaN   \n",
      "\n",
      "measurement_name    MCH [Entitic mass] by Automated count  \\\n",
      "person_id category                                          \n",
      "68        mild                                        NaN   \n",
      "160       mild                                        NaN   \n",
      "234       mild                                        NaN   \n",
      "259       moderate                                    NaN   \n",
      "296       mild                                        NaN   \n",
      "354       moderate                              29.811111   \n",
      "375       mild                                        NaN   \n",
      "647       mild                                        NaN   \n",
      "692       mild                                        NaN   \n",
      "738       mild                                        NaN   \n",
      "\n",
      "measurement_name    MCHC [Mass/volume] by Automated count  \\\n",
      "person_id category                                          \n",
      "68        mild                                        NaN   \n",
      "160       mild                                        NaN   \n",
      "234       mild                                        NaN   \n",
      "259       moderate                                    NaN   \n",
      "296       mild                                        NaN   \n",
      "354       moderate                              33.444444   \n",
      "375       mild                                        NaN   \n",
      "647       mild                                        NaN   \n",
      "692       mild                                        NaN   \n",
      "738       mild                                        NaN   \n",
      "\n",
      "measurement_name    MCV [Entitic volume] by Automated count  \\\n",
      "person_id category                                            \n",
      "68        mild                                          NaN   \n",
      "160       mild                                          NaN   \n",
      "234       mild                                          NaN   \n",
      "259       moderate                                      NaN   \n",
      "296       mild                                          NaN   \n",
      "354       moderate                                88.477778   \n",
      "375       mild                                          NaN   \n",
      "647       mild                                          NaN   \n",
      "692       mild                                          NaN   \n",
      "738       mild                                          NaN   \n",
      "\n",
      "measurement_name    Oxygen saturation in Arterial blood  \\\n",
      "person_id category                                        \n",
      "68        mild                                    86.00   \n",
      "160       mild                                    77.70   \n",
      "234       mild                                      NaN   \n",
      "259       moderate                                83.70   \n",
      "296       mild                                    82.50   \n",
      "354       moderate                                79.01   \n",
      "375       mild                                    75.60   \n",
      "647       mild                                    76.90   \n",
      "692       mild                                    88.90   \n",
      "738       mild                                    82.10   \n",
      "\n",
      "measurement_name    Platelets [#/volume] in Blood by Automated count  \\\n",
      "person_id category                                                     \n",
      "68        mild                                                   NaN   \n",
      "160       mild                                                   NaN   \n",
      "234       mild                                                   NaN   \n",
      "259       moderate                                               NaN   \n",
      "296       mild                                                   NaN   \n",
      "354       moderate                                        120.488889   \n",
      "375       mild                                                   NaN   \n",
      "647       mild                                                   NaN   \n",
      "692       mild                                                   NaN   \n",
      "738       mild                                                   NaN   \n",
      "\n",
      "measurement_name    Protein [Mass/volume] in Serum or Plasma  \\\n",
      "person_id category                                             \n",
      "68        mild                                           NaN   \n",
      "160       mild                                           NaN   \n",
      "234       mild                                           NaN   \n",
      "259       moderate                                       NaN   \n",
      "296       mild                                           NaN   \n",
      "354       moderate                                  6.577778   \n",
      "375       mild                                           NaN   \n",
      "647       mild                                           NaN   \n",
      "692       mild                                           NaN   \n",
      "738       mild                                           NaN   \n",
      "\n",
      "measurement_name    Respiratory rate  Systolic blood pressure  \n",
      "person_id category                                             \n",
      "68        mild                 19.80                    135.0  \n",
      "160       mild                 31.10                    124.0  \n",
      "234       mild                 15.00                    136.0  \n",
      "259       moderate             16.10                    115.0  \n",
      "296       mild                 22.90                    110.0  \n",
      "354       moderate             20.79                    117.5  \n",
      "375       mild                 20.60                    122.0  \n",
      "647       mild                 29.20                    124.0  \n",
      "692       mild                 38.70                    129.0  \n",
      "738       mild                 31.70                    110.0  \n",
      "\n",
      "[10 rows x 22 columns]\n"
     ]
    }
   ],
   "source": [
    "# Check the first 10 rows of the data\n",
    "print(person_data_all_df.head(10))"
   ]
  },
  {
   "cell_type": "markdown",
   "id": "9e7635b4",
   "metadata": {},
   "source": [
    "#### Assign abbreviated column names to columns and include the target variables as one of the columns"
   ]
  },
  {
   "cell_type": "code",
   "execution_count": 20,
   "id": "d30c2416",
   "metadata": {},
   "outputs": [
    {
     "name": "stdout",
     "output_type": "stream",
     "text": [
      "22\n"
     ]
    }
   ],
   "source": [
    "column_names = {'Body temperature': 'Body temp',\n",
    " 'Diastolic blood pressure': 'DBP',\n",
    " 'Heart rate':  'HR',\n",
    " 'Body weight': 'BW',\n",
    " 'Systolic blood pressure': 'SBP',\n",
    " 'Oxygen saturation in Arterial blood': 'SaO2',\n",
    " 'Respiratory rate': 'RR',\n",
    " 'Erythrocytes [#/volume] in Blood by Automated count': 'Erythrocytes',\n",
    " 'Hemoglobin [Mass/volume] in Blood': 'Hemoglobin',\n",
    " 'Hematocrit [Volume Fraction] of Blood by Automated count': 'Hematocrit',\n",
    " 'MCHC [Mass/volume] by Automated count': 'MCHC',\n",
    " 'Glomerular filtration rate/1.73 sq M.predicted [Volume Rate/Area] in Serum, Plasma or Blood by Creatinine-based formula (MDRD)': 'MDRD GFR',\n",
    " 'Protein [Mass/volume] in Serum or Plasma': 'Protein',\n",
    " 'Alkaline phosphatase [Enzymatic activity/volume] in Serum or Plasma': 'Alkaline phosphatase',\n",
    " 'Alanine aminotransferase [Enzymatic activity/volume] in Serum or Plasma': 'Alanine aminotransferase',\n",
    " 'Aspartate aminotransferase [Enzymatic activity/volume] in Serum or Plasma': 'Aspartate aminotransferase',\n",
    " 'Leukocytes [#/volume] in Blood by Automated count': 'Leukocytes',\n",
    " 'MCV [Entitic volume] by Automated count': 'MCV',\n",
    " 'MCH [Entitic mass] by Automated count': 'MCH',\n",
    " 'Platelets [#/volume] in Blood by Automated count': 'Platelets',\n",
    " 'Albumin [Mass/volume] in Serum or Plasma': 'Albumin',\n",
    " 'Bilirubin.total [Mass/volume] in Serum or Plasma': 'Bilirubin.total'\n",
    "}\n",
    "\n",
    "print(len(column_names))"
   ]
  },
  {
   "cell_type": "code",
   "execution_count": 21,
   "id": "418cecb4",
   "metadata": {},
   "outputs": [
    {
     "data": {
      "text/html": [
       "<div>\n",
       "<style scoped>\n",
       "    .dataframe tbody tr th:only-of-type {\n",
       "        vertical-align: middle;\n",
       "    }\n",
       "\n",
       "    .dataframe tbody tr th {\n",
       "        vertical-align: top;\n",
       "    }\n",
       "\n",
       "    .dataframe thead th {\n",
       "        text-align: right;\n",
       "    }\n",
       "</style>\n",
       "<table border=\"1\" class=\"dataframe\">\n",
       "  <thead>\n",
       "    <tr style=\"text-align: right;\">\n",
       "      <th></th>\n",
       "      <th>measurement_name</th>\n",
       "      <th>Alanine aminotransferase</th>\n",
       "      <th>Albumin</th>\n",
       "      <th>Alkaline phosphatase</th>\n",
       "      <th>Aspartate aminotransferase</th>\n",
       "      <th>Bilirubin.total</th>\n",
       "      <th>Body temp</th>\n",
       "      <th>BW</th>\n",
       "      <th>DBP</th>\n",
       "      <th>Erythrocytes</th>\n",
       "      <th>MDRD GFR</th>\n",
       "      <th>...</th>\n",
       "      <th>Hemoglobin</th>\n",
       "      <th>Leukocytes</th>\n",
       "      <th>MCH</th>\n",
       "      <th>MCHC</th>\n",
       "      <th>MCV</th>\n",
       "      <th>SaO2</th>\n",
       "      <th>Platelets</th>\n",
       "      <th>Protein</th>\n",
       "      <th>RR</th>\n",
       "      <th>SBP</th>\n",
       "    </tr>\n",
       "    <tr>\n",
       "      <th>person_id</th>\n",
       "      <th>category</th>\n",
       "      <th></th>\n",
       "      <th></th>\n",
       "      <th></th>\n",
       "      <th></th>\n",
       "      <th></th>\n",
       "      <th></th>\n",
       "      <th></th>\n",
       "      <th></th>\n",
       "      <th></th>\n",
       "      <th></th>\n",
       "      <th></th>\n",
       "      <th></th>\n",
       "      <th></th>\n",
       "      <th></th>\n",
       "      <th></th>\n",
       "      <th></th>\n",
       "      <th></th>\n",
       "      <th></th>\n",
       "      <th></th>\n",
       "      <th></th>\n",
       "      <th></th>\n",
       "    </tr>\n",
       "  </thead>\n",
       "  <tbody>\n",
       "    <tr>\n",
       "      <th>68</th>\n",
       "      <th>mild</th>\n",
       "      <td>NaN</td>\n",
       "      <td>NaN</td>\n",
       "      <td>NaN</td>\n",
       "      <td>NaN</td>\n",
       "      <td>NaN</td>\n",
       "      <td>41.000000</td>\n",
       "      <td>86.1</td>\n",
       "      <td>76.000000</td>\n",
       "      <td>NaN</td>\n",
       "      <td>NaN</td>\n",
       "      <td>...</td>\n",
       "      <td>NaN</td>\n",
       "      <td>NaN</td>\n",
       "      <td>NaN</td>\n",
       "      <td>NaN</td>\n",
       "      <td>NaN</td>\n",
       "      <td>86.000000</td>\n",
       "      <td>NaN</td>\n",
       "      <td>NaN</td>\n",
       "      <td>19.800000</td>\n",
       "      <td>135.000000</td>\n",
       "    </tr>\n",
       "    <tr>\n",
       "      <th>160</th>\n",
       "      <th>mild</th>\n",
       "      <td>NaN</td>\n",
       "      <td>NaN</td>\n",
       "      <td>NaN</td>\n",
       "      <td>NaN</td>\n",
       "      <td>NaN</td>\n",
       "      <td>41.100000</td>\n",
       "      <td>70.0</td>\n",
       "      <td>74.000000</td>\n",
       "      <td>NaN</td>\n",
       "      <td>NaN</td>\n",
       "      <td>...</td>\n",
       "      <td>NaN</td>\n",
       "      <td>NaN</td>\n",
       "      <td>NaN</td>\n",
       "      <td>NaN</td>\n",
       "      <td>NaN</td>\n",
       "      <td>77.700000</td>\n",
       "      <td>NaN</td>\n",
       "      <td>NaN</td>\n",
       "      <td>31.100000</td>\n",
       "      <td>124.000000</td>\n",
       "    </tr>\n",
       "    <tr>\n",
       "      <th>234</th>\n",
       "      <th>mild</th>\n",
       "      <td>NaN</td>\n",
       "      <td>NaN</td>\n",
       "      <td>NaN</td>\n",
       "      <td>NaN</td>\n",
       "      <td>NaN</td>\n",
       "      <td>NaN</td>\n",
       "      <td>86.1</td>\n",
       "      <td>77.000000</td>\n",
       "      <td>NaN</td>\n",
       "      <td>NaN</td>\n",
       "      <td>...</td>\n",
       "      <td>NaN</td>\n",
       "      <td>NaN</td>\n",
       "      <td>NaN</td>\n",
       "      <td>NaN</td>\n",
       "      <td>NaN</td>\n",
       "      <td>NaN</td>\n",
       "      <td>NaN</td>\n",
       "      <td>NaN</td>\n",
       "      <td>15.000000</td>\n",
       "      <td>136.000000</td>\n",
       "    </tr>\n",
       "    <tr>\n",
       "      <th>259</th>\n",
       "      <th>moderate</th>\n",
       "      <td>NaN</td>\n",
       "      <td>NaN</td>\n",
       "      <td>NaN</td>\n",
       "      <td>NaN</td>\n",
       "      <td>NaN</td>\n",
       "      <td>38.400000</td>\n",
       "      <td>49.5</td>\n",
       "      <td>85.000000</td>\n",
       "      <td>NaN</td>\n",
       "      <td>NaN</td>\n",
       "      <td>...</td>\n",
       "      <td>NaN</td>\n",
       "      <td>NaN</td>\n",
       "      <td>NaN</td>\n",
       "      <td>NaN</td>\n",
       "      <td>NaN</td>\n",
       "      <td>83.700000</td>\n",
       "      <td>NaN</td>\n",
       "      <td>NaN</td>\n",
       "      <td>16.100000</td>\n",
       "      <td>115.000000</td>\n",
       "    </tr>\n",
       "    <tr>\n",
       "      <th>296</th>\n",
       "      <th>mild</th>\n",
       "      <td>NaN</td>\n",
       "      <td>NaN</td>\n",
       "      <td>NaN</td>\n",
       "      <td>NaN</td>\n",
       "      <td>NaN</td>\n",
       "      <td>38.600000</td>\n",
       "      <td>75.6</td>\n",
       "      <td>83.000000</td>\n",
       "      <td>NaN</td>\n",
       "      <td>NaN</td>\n",
       "      <td>...</td>\n",
       "      <td>NaN</td>\n",
       "      <td>NaN</td>\n",
       "      <td>NaN</td>\n",
       "      <td>NaN</td>\n",
       "      <td>NaN</td>\n",
       "      <td>82.500000</td>\n",
       "      <td>NaN</td>\n",
       "      <td>NaN</td>\n",
       "      <td>22.900000</td>\n",
       "      <td>110.000000</td>\n",
       "    </tr>\n",
       "    <tr>\n",
       "      <th>...</th>\n",
       "      <th>...</th>\n",
       "      <td>...</td>\n",
       "      <td>...</td>\n",
       "      <td>...</td>\n",
       "      <td>...</td>\n",
       "      <td>...</td>\n",
       "      <td>...</td>\n",
       "      <td>...</td>\n",
       "      <td>...</td>\n",
       "      <td>...</td>\n",
       "      <td>...</td>\n",
       "      <td>...</td>\n",
       "      <td>...</td>\n",
       "      <td>...</td>\n",
       "      <td>...</td>\n",
       "      <td>...</td>\n",
       "      <td>...</td>\n",
       "      <td>...</td>\n",
       "      <td>...</td>\n",
       "      <td>...</td>\n",
       "      <td>...</td>\n",
       "      <td>...</td>\n",
       "    </tr>\n",
       "    <tr>\n",
       "      <th>123690</th>\n",
       "      <th>severe</th>\n",
       "      <td>16.362500</td>\n",
       "      <td>4.368750</td>\n",
       "      <td>75.318750</td>\n",
       "      <td>22.0375</td>\n",
       "      <td>9.50</td>\n",
       "      <td>39.688235</td>\n",
       "      <td>79.1</td>\n",
       "      <td>82.941176</td>\n",
       "      <td>4.631250</td>\n",
       "      <td>10.287500</td>\n",
       "      <td>...</td>\n",
       "      <td>12.493750</td>\n",
       "      <td>3.443750</td>\n",
       "      <td>28.900000</td>\n",
       "      <td>34.031250</td>\n",
       "      <td>86.131250</td>\n",
       "      <td>82.090909</td>\n",
       "      <td>121.906250</td>\n",
       "      <td>6.587500</td>\n",
       "      <td>25.017647</td>\n",
       "      <td>125.176471</td>\n",
       "    </tr>\n",
       "    <tr>\n",
       "      <th>123828</th>\n",
       "      <th>mild</th>\n",
       "      <td>55.800000</td>\n",
       "      <td>3.600000</td>\n",
       "      <td>62.000000</td>\n",
       "      <td>10.5000</td>\n",
       "      <td>1.00</td>\n",
       "      <td>38.200000</td>\n",
       "      <td>93.7</td>\n",
       "      <td>73.500000</td>\n",
       "      <td>NaN</td>\n",
       "      <td>43.750000</td>\n",
       "      <td>...</td>\n",
       "      <td>NaN</td>\n",
       "      <td>NaN</td>\n",
       "      <td>NaN</td>\n",
       "      <td>NaN</td>\n",
       "      <td>NaN</td>\n",
       "      <td>85.400000</td>\n",
       "      <td>NaN</td>\n",
       "      <td>70.400000</td>\n",
       "      <td>19.500000</td>\n",
       "      <td>122.500000</td>\n",
       "    </tr>\n",
       "    <tr>\n",
       "      <th>123856</th>\n",
       "      <th>mild</th>\n",
       "      <td>NaN</td>\n",
       "      <td>NaN</td>\n",
       "      <td>NaN</td>\n",
       "      <td>NaN</td>\n",
       "      <td>NaN</td>\n",
       "      <td>40.100000</td>\n",
       "      <td>11.2</td>\n",
       "      <td>80.000000</td>\n",
       "      <td>NaN</td>\n",
       "      <td>NaN</td>\n",
       "      <td>...</td>\n",
       "      <td>NaN</td>\n",
       "      <td>NaN</td>\n",
       "      <td>NaN</td>\n",
       "      <td>NaN</td>\n",
       "      <td>NaN</td>\n",
       "      <td>78.000000</td>\n",
       "      <td>NaN</td>\n",
       "      <td>NaN</td>\n",
       "      <td>16.200000</td>\n",
       "      <td>137.000000</td>\n",
       "    </tr>\n",
       "    <tr>\n",
       "      <th>124032</th>\n",
       "      <th>mild</th>\n",
       "      <td>NaN</td>\n",
       "      <td>NaN</td>\n",
       "      <td>NaN</td>\n",
       "      <td>NaN</td>\n",
       "      <td>NaN</td>\n",
       "      <td>38.100000</td>\n",
       "      <td>97.2</td>\n",
       "      <td>71.000000</td>\n",
       "      <td>NaN</td>\n",
       "      <td>NaN</td>\n",
       "      <td>...</td>\n",
       "      <td>NaN</td>\n",
       "      <td>NaN</td>\n",
       "      <td>NaN</td>\n",
       "      <td>NaN</td>\n",
       "      <td>NaN</td>\n",
       "      <td>80.700000</td>\n",
       "      <td>NaN</td>\n",
       "      <td>NaN</td>\n",
       "      <td>18.900000</td>\n",
       "      <td>134.000000</td>\n",
       "    </tr>\n",
       "    <tr>\n",
       "      <th>124140</th>\n",
       "      <th>moderate</th>\n",
       "      <td>16.164286</td>\n",
       "      <td>4.464286</td>\n",
       "      <td>82.042857</td>\n",
       "      <td>19.3500</td>\n",
       "      <td>10.55</td>\n",
       "      <td>40.093750</td>\n",
       "      <td>65.9</td>\n",
       "      <td>79.600000</td>\n",
       "      <td>4.792857</td>\n",
       "      <td>9.292857</td>\n",
       "      <td>...</td>\n",
       "      <td>12.442857</td>\n",
       "      <td>3.485714</td>\n",
       "      <td>29.457143</td>\n",
       "      <td>33.507143</td>\n",
       "      <td>90.135714</td>\n",
       "      <td>82.862069</td>\n",
       "      <td>127.207143</td>\n",
       "      <td>6.935714</td>\n",
       "      <td>29.986667</td>\n",
       "      <td>124.866667</td>\n",
       "    </tr>\n",
       "  </tbody>\n",
       "</table>\n",
       "<p>1763 rows × 22 columns</p>\n",
       "</div>"
      ],
      "text/plain": [
       "measurement_name    Alanine aminotransferase   Albumin  Alkaline phosphatase  \\\n",
       "person_id category                                                             \n",
       "68        mild                           NaN       NaN                   NaN   \n",
       "160       mild                           NaN       NaN                   NaN   \n",
       "234       mild                           NaN       NaN                   NaN   \n",
       "259       moderate                       NaN       NaN                   NaN   \n",
       "296       mild                           NaN       NaN                   NaN   \n",
       "...                                      ...       ...                   ...   \n",
       "123690    severe                   16.362500  4.368750             75.318750   \n",
       "123828    mild                     55.800000  3.600000             62.000000   \n",
       "123856    mild                           NaN       NaN                   NaN   \n",
       "124032    mild                           NaN       NaN                   NaN   \n",
       "124140    moderate                 16.164286  4.464286             82.042857   \n",
       "\n",
       "measurement_name    Aspartate aminotransferase  Bilirubin.total  Body temp  \\\n",
       "person_id category                                                           \n",
       "68        mild                             NaN              NaN  41.000000   \n",
       "160       mild                             NaN              NaN  41.100000   \n",
       "234       mild                             NaN              NaN        NaN   \n",
       "259       moderate                         NaN              NaN  38.400000   \n",
       "296       mild                             NaN              NaN  38.600000   \n",
       "...                                        ...              ...        ...   \n",
       "123690    severe                       22.0375             9.50  39.688235   \n",
       "123828    mild                         10.5000             1.00  38.200000   \n",
       "123856    mild                             NaN              NaN  40.100000   \n",
       "124032    mild                             NaN              NaN  38.100000   \n",
       "124140    moderate                     19.3500            10.55  40.093750   \n",
       "\n",
       "measurement_name      BW        DBP  Erythrocytes   MDRD GFR  ...  Hemoglobin  \\\n",
       "person_id category                                            ...               \n",
       "68        mild      86.1  76.000000           NaN        NaN  ...         NaN   \n",
       "160       mild      70.0  74.000000           NaN        NaN  ...         NaN   \n",
       "234       mild      86.1  77.000000           NaN        NaN  ...         NaN   \n",
       "259       moderate  49.5  85.000000           NaN        NaN  ...         NaN   \n",
       "296       mild      75.6  83.000000           NaN        NaN  ...         NaN   \n",
       "...                  ...        ...           ...        ...  ...         ...   \n",
       "123690    severe    79.1  82.941176      4.631250  10.287500  ...   12.493750   \n",
       "123828    mild      93.7  73.500000           NaN  43.750000  ...         NaN   \n",
       "123856    mild      11.2  80.000000           NaN        NaN  ...         NaN   \n",
       "124032    mild      97.2  71.000000           NaN        NaN  ...         NaN   \n",
       "124140    moderate  65.9  79.600000      4.792857   9.292857  ...   12.442857   \n",
       "\n",
       "measurement_name    Leukocytes        MCH       MCHC        MCV       SaO2  \\\n",
       "person_id category                                                           \n",
       "68        mild             NaN        NaN        NaN        NaN  86.000000   \n",
       "160       mild             NaN        NaN        NaN        NaN  77.700000   \n",
       "234       mild             NaN        NaN        NaN        NaN        NaN   \n",
       "259       moderate         NaN        NaN        NaN        NaN  83.700000   \n",
       "296       mild             NaN        NaN        NaN        NaN  82.500000   \n",
       "...                        ...        ...        ...        ...        ...   \n",
       "123690    severe      3.443750  28.900000  34.031250  86.131250  82.090909   \n",
       "123828    mild             NaN        NaN        NaN        NaN  85.400000   \n",
       "123856    mild             NaN        NaN        NaN        NaN  78.000000   \n",
       "124032    mild             NaN        NaN        NaN        NaN  80.700000   \n",
       "124140    moderate    3.485714  29.457143  33.507143  90.135714  82.862069   \n",
       "\n",
       "measurement_name     Platelets    Protein         RR         SBP  \n",
       "person_id category                                                \n",
       "68        mild             NaN        NaN  19.800000  135.000000  \n",
       "160       mild             NaN        NaN  31.100000  124.000000  \n",
       "234       mild             NaN        NaN  15.000000  136.000000  \n",
       "259       moderate         NaN        NaN  16.100000  115.000000  \n",
       "296       mild             NaN        NaN  22.900000  110.000000  \n",
       "...                        ...        ...        ...         ...  \n",
       "123690    severe    121.906250   6.587500  25.017647  125.176471  \n",
       "123828    mild             NaN  70.400000  19.500000  122.500000  \n",
       "123856    mild             NaN        NaN  16.200000  137.000000  \n",
       "124032    mild             NaN        NaN  18.900000  134.000000  \n",
       "124140    moderate  127.207143   6.935714  29.986667  124.866667  \n",
       "\n",
       "[1763 rows x 22 columns]"
      ]
     },
     "execution_count": 21,
     "metadata": {},
     "output_type": "execute_result"
    }
   ],
   "source": [
    "person_data_all_df.rename(columns=column_names, inplace=True)\n",
    "person_data_all_df"
   ]
  },
  {
   "cell_type": "code",
   "execution_count": 22,
   "id": "21527de4",
   "metadata": {},
   "outputs": [
    {
     "name": "stdout",
     "output_type": "stream",
     "text": [
      "measurement_name  category  Alanine aminotransferase  Albumin  \\\n",
      "person_id                                                       \n",
      "68                    mild                       NaN      NaN   \n",
      "160                   mild                       NaN      NaN   \n",
      "234                   mild                       NaN      NaN   \n",
      "259               moderate                       NaN      NaN   \n",
      "296                   mild                       NaN      NaN   \n",
      "\n",
      "measurement_name  Alkaline phosphatase  Aspartate aminotransferase  \\\n",
      "person_id                                                            \n",
      "68                                 NaN                         NaN   \n",
      "160                                NaN                         NaN   \n",
      "234                                NaN                         NaN   \n",
      "259                                NaN                         NaN   \n",
      "296                                NaN                         NaN   \n",
      "\n",
      "measurement_name  Bilirubin.total  Body temp    BW   DBP  Erythrocytes  ...  \\\n",
      "person_id                                                               ...   \n",
      "68                            NaN       41.0  86.1  76.0           NaN  ...   \n",
      "160                           NaN       41.1  70.0  74.0           NaN  ...   \n",
      "234                           NaN        NaN  86.1  77.0           NaN  ...   \n",
      "259                           NaN       38.4  49.5  85.0           NaN  ...   \n",
      "296                           NaN       38.6  75.6  83.0           NaN  ...   \n",
      "\n",
      "measurement_name  Hemoglobin  Leukocytes  MCH  MCHC  MCV  SaO2  Platelets  \\\n",
      "person_id                                                                   \n",
      "68                       NaN         NaN  NaN   NaN  NaN  86.0        NaN   \n",
      "160                      NaN         NaN  NaN   NaN  NaN  77.7        NaN   \n",
      "234                      NaN         NaN  NaN   NaN  NaN   NaN        NaN   \n",
      "259                      NaN         NaN  NaN   NaN  NaN  83.7        NaN   \n",
      "296                      NaN         NaN  NaN   NaN  NaN  82.5        NaN   \n",
      "\n",
      "measurement_name  Protein    RR    SBP  \n",
      "person_id                               \n",
      "68                    NaN  19.8  135.0  \n",
      "160                   NaN  31.1  124.0  \n",
      "234                   NaN  15.0  136.0  \n",
      "259                   NaN  16.1  115.0  \n",
      "296                   NaN  22.9  110.0  \n",
      "\n",
      "[5 rows x 23 columns]\n"
     ]
    }
   ],
   "source": [
    "# Include the category(mild, medium, severe) as column\n",
    "person_data_all_df.reset_index(level=1, inplace=True)\n",
    "print(person_data_all_df.head())"
   ]
  },
  {
   "cell_type": "code",
   "execution_count": 23,
   "id": "fc309a92",
   "metadata": {},
   "outputs": [
    {
     "name": "stdout",
     "output_type": "stream",
     "text": [
      "The data contains 1763 rows and 23 columns. These columns are 14 days averaged measurements for 22 vitals/labs and the category of COVID.\n"
     ]
    }
   ],
   "source": [
    "print(f\"The data contains {person_data_all_df.shape[0]} rows and {person_data_all_df.shape[1]} columns. These columns \\\n",
    "are 14 days averaged measurements for 22 vitals/labs and the category of COVID.\")"
   ]
  },
  {
   "cell_type": "markdown",
   "id": "9a245a57",
   "metadata": {},
   "source": [
    "#### Create feature labels"
   ]
  },
  {
   "cell_type": "code",
   "execution_count": 24,
   "id": "723b3395",
   "metadata": {},
   "outputs": [
    {
     "data": {
      "text/plain": [
       "Index(['Alanine aminotransferase', 'Albumin', 'Alkaline phosphatase',\n",
       "       'Aspartate aminotransferase', 'Bilirubin.total', 'Body temp', 'BW',\n",
       "       'DBP', 'Erythrocytes', 'MDRD GFR', 'HR', 'Hematocrit', 'Hemoglobin',\n",
       "       'Leukocytes', 'MCH', 'MCHC', 'MCV', 'SaO2', 'Platelets', 'Protein',\n",
       "       'RR', 'SBP'],\n",
       "      dtype='object', name='measurement_name')"
      ]
     },
     "execution_count": 24,
     "metadata": {},
     "output_type": "execute_result"
    }
   ],
   "source": [
    "feat_labels = person_data_all_df.columns[1:]\n",
    "feat_labels"
   ]
  },
  {
   "cell_type": "markdown",
   "id": "86f134e9",
   "metadata": {},
   "source": [
    "### Check for the missing values"
   ]
  },
  {
   "cell_type": "markdown",
   "id": "37f6bd72",
   "metadata": {},
   "source": [
    "#### Count the percentage of missing values in the features and the target"
   ]
  },
  {
   "cell_type": "code",
   "execution_count": 25,
   "id": "010c45b1",
   "metadata": {},
   "outputs": [
    {
     "name": "stdout",
     "output_type": "stream",
     "text": [
      "measurement_name\n",
      "category                       0.00\n",
      "Alanine aminotransferase      56.95\n",
      "Albumin                       56.95\n",
      "Alkaline phosphatase          56.95\n",
      "Aspartate aminotransferase    56.95\n",
      "Bilirubin.total               56.95\n",
      "Body temp                      0.28\n",
      "BW                             0.00\n",
      "DBP                            0.00\n",
      "Erythrocytes                  57.01\n",
      "MDRD GFR                      56.44\n",
      "HR                             0.00\n",
      "Hematocrit                    57.01\n",
      "Hemoglobin                    57.01\n",
      "Leukocytes                    57.01\n",
      "MCH                           57.01\n",
      "MCHC                          57.01\n",
      "MCV                           57.01\n",
      "SaO2                           0.28\n",
      "Platelets                     57.01\n",
      "Protein                       56.95\n",
      "RR                             0.00\n",
      "SBP                            0.00\n",
      "dtype: float64\n"
     ]
    }
   ],
   "source": [
    "num_of_patients = person_data_all_df.shape[0] #Total patients\n",
    "num_of_measurements = person_data_all_df.shape[1] -1 # Total measurement types\n",
    "print(round(person_data_all_df.isna().sum()*100/num_of_patients,2))"
   ]
  },
  {
   "cell_type": "markdown",
   "id": "69735fdc",
   "metadata": {},
   "source": [
    "There are 1763 patients with measurements for 22 vitals and labs. And for these patients the missing records are almost 57% for significant number of labs and vitals. And the target variable doesn't have any missing values. I am not dropping any columns based on the amount of missing values. I will utilize the sklearn.SimpleImputer to impute missing values with the mean values of each columns.  "
   ]
  },
  {
   "cell_type": "markdown",
   "id": "3d2ed0e8",
   "metadata": {},
   "source": [
    "### Create two sets of data: 1. Contains two categories mild, and not_mild (label moderate and severe as not_mild), 2. Contains only moderate and severe patients."
   ]
  },
  {
   "cell_type": "markdown",
   "id": "4bc6fe01",
   "metadata": {},
   "source": [
    "#### Create set 2 data named as df_set2"
   ]
  },
  {
   "cell_type": "markdown",
   "id": "626b0cbe",
   "metadata": {},
   "source": [
    "##### Select moderate and severe patients only"
   ]
  },
  {
   "cell_type": "code",
   "execution_count": 26,
   "id": "c0500db1",
   "metadata": {},
   "outputs": [],
   "source": [
    "df_set2 = person_data_all_df[person_data_all_df['category'].isin(['moderate', 'severe'])]"
   ]
  },
  {
   "cell_type": "code",
   "execution_count": 27,
   "id": "ee325658",
   "metadata": {},
   "outputs": [
    {
     "data": {
      "text/html": [
       "<div>\n",
       "<style scoped>\n",
       "    .dataframe tbody tr th:only-of-type {\n",
       "        vertical-align: middle;\n",
       "    }\n",
       "\n",
       "    .dataframe tbody tr th {\n",
       "        vertical-align: top;\n",
       "    }\n",
       "\n",
       "    .dataframe thead th {\n",
       "        text-align: right;\n",
       "    }\n",
       "</style>\n",
       "<table border=\"1\" class=\"dataframe\">\n",
       "  <thead>\n",
       "    <tr style=\"text-align: right;\">\n",
       "      <th>measurement_name</th>\n",
       "      <th>category</th>\n",
       "      <th>Alanine aminotransferase</th>\n",
       "      <th>Albumin</th>\n",
       "      <th>Alkaline phosphatase</th>\n",
       "      <th>Aspartate aminotransferase</th>\n",
       "      <th>Bilirubin.total</th>\n",
       "      <th>Body temp</th>\n",
       "      <th>BW</th>\n",
       "      <th>DBP</th>\n",
       "      <th>Erythrocytes</th>\n",
       "      <th>...</th>\n",
       "      <th>Hemoglobin</th>\n",
       "      <th>Leukocytes</th>\n",
       "      <th>MCH</th>\n",
       "      <th>MCHC</th>\n",
       "      <th>MCV</th>\n",
       "      <th>SaO2</th>\n",
       "      <th>Platelets</th>\n",
       "      <th>Protein</th>\n",
       "      <th>RR</th>\n",
       "      <th>SBP</th>\n",
       "    </tr>\n",
       "    <tr>\n",
       "      <th>person_id</th>\n",
       "      <th></th>\n",
       "      <th></th>\n",
       "      <th></th>\n",
       "      <th></th>\n",
       "      <th></th>\n",
       "      <th></th>\n",
       "      <th></th>\n",
       "      <th></th>\n",
       "      <th></th>\n",
       "      <th></th>\n",
       "      <th></th>\n",
       "      <th></th>\n",
       "      <th></th>\n",
       "      <th></th>\n",
       "      <th></th>\n",
       "      <th></th>\n",
       "      <th></th>\n",
       "      <th></th>\n",
       "      <th></th>\n",
       "      <th></th>\n",
       "      <th></th>\n",
       "    </tr>\n",
       "  </thead>\n",
       "  <tbody>\n",
       "    <tr>\n",
       "      <th>259</th>\n",
       "      <td>moderate</td>\n",
       "      <td>NaN</td>\n",
       "      <td>NaN</td>\n",
       "      <td>NaN</td>\n",
       "      <td>NaN</td>\n",
       "      <td>NaN</td>\n",
       "      <td>38.400000</td>\n",
       "      <td>49.500000</td>\n",
       "      <td>85.000000</td>\n",
       "      <td>NaN</td>\n",
       "      <td>...</td>\n",
       "      <td>NaN</td>\n",
       "      <td>NaN</td>\n",
       "      <td>NaN</td>\n",
       "      <td>NaN</td>\n",
       "      <td>NaN</td>\n",
       "      <td>83.700000</td>\n",
       "      <td>NaN</td>\n",
       "      <td>NaN</td>\n",
       "      <td>16.100000</td>\n",
       "      <td>115.000000</td>\n",
       "    </tr>\n",
       "    <tr>\n",
       "      <th>354</th>\n",
       "      <td>moderate</td>\n",
       "      <td>26.400000</td>\n",
       "      <td>4.122222</td>\n",
       "      <td>72.966667</td>\n",
       "      <td>18.222222</td>\n",
       "      <td>10.755556</td>\n",
       "      <td>39.091667</td>\n",
       "      <td>79.400000</td>\n",
       "      <td>83.700000</td>\n",
       "      <td>4.566667</td>\n",
       "      <td>...</td>\n",
       "      <td>12.755556</td>\n",
       "      <td>3.455556</td>\n",
       "      <td>29.811111</td>\n",
       "      <td>33.444444</td>\n",
       "      <td>88.477778</td>\n",
       "      <td>79.010000</td>\n",
       "      <td>120.488889</td>\n",
       "      <td>6.577778</td>\n",
       "      <td>20.790000</td>\n",
       "      <td>117.500000</td>\n",
       "    </tr>\n",
       "    <tr>\n",
       "      <th>892</th>\n",
       "      <td>moderate</td>\n",
       "      <td>18.540000</td>\n",
       "      <td>4.270000</td>\n",
       "      <td>75.380000</td>\n",
       "      <td>20.800000</td>\n",
       "      <td>10.780000</td>\n",
       "      <td>39.836364</td>\n",
       "      <td>99.600000</td>\n",
       "      <td>78.272727</td>\n",
       "      <td>5.100000</td>\n",
       "      <td>...</td>\n",
       "      <td>12.740000</td>\n",
       "      <td>3.380000</td>\n",
       "      <td>30.170000</td>\n",
       "      <td>33.850000</td>\n",
       "      <td>88.650000</td>\n",
       "      <td>81.490476</td>\n",
       "      <td>118.370000</td>\n",
       "      <td>6.910000</td>\n",
       "      <td>27.490909</td>\n",
       "      <td>120.818182</td>\n",
       "    </tr>\n",
       "    <tr>\n",
       "      <th>937</th>\n",
       "      <td>moderate</td>\n",
       "      <td>20.627273</td>\n",
       "      <td>4.381818</td>\n",
       "      <td>78.545455</td>\n",
       "      <td>20.709091</td>\n",
       "      <td>11.709091</td>\n",
       "      <td>39.716667</td>\n",
       "      <td>74.316667</td>\n",
       "      <td>75.250000</td>\n",
       "      <td>4.463636</td>\n",
       "      <td>...</td>\n",
       "      <td>12.254545</td>\n",
       "      <td>3.490909</td>\n",
       "      <td>30.963636</td>\n",
       "      <td>33.009091</td>\n",
       "      <td>91.654545</td>\n",
       "      <td>83.234783</td>\n",
       "      <td>127.236364</td>\n",
       "      <td>6.936364</td>\n",
       "      <td>29.883333</td>\n",
       "      <td>111.250000</td>\n",
       "    </tr>\n",
       "    <tr>\n",
       "      <th>952</th>\n",
       "      <td>severe</td>\n",
       "      <td>23.666667</td>\n",
       "      <td>4.653333</td>\n",
       "      <td>73.866667</td>\n",
       "      <td>21.100000</td>\n",
       "      <td>10.100000</td>\n",
       "      <td>39.893750</td>\n",
       "      <td>66.000000</td>\n",
       "      <td>86.312500</td>\n",
       "      <td>4.593333</td>\n",
       "      <td>...</td>\n",
       "      <td>12.420000</td>\n",
       "      <td>3.533333</td>\n",
       "      <td>29.980000</td>\n",
       "      <td>33.733333</td>\n",
       "      <td>88.966667</td>\n",
       "      <td>82.993548</td>\n",
       "      <td>127.700000</td>\n",
       "      <td>6.693333</td>\n",
       "      <td>23.368750</td>\n",
       "      <td>130.062500</td>\n",
       "    </tr>\n",
       "  </tbody>\n",
       "</table>\n",
       "<p>5 rows × 23 columns</p>\n",
       "</div>"
      ],
      "text/plain": [
       "measurement_name  category  Alanine aminotransferase   Albumin  \\\n",
       "person_id                                                        \n",
       "259               moderate                       NaN       NaN   \n",
       "354               moderate                 26.400000  4.122222   \n",
       "892               moderate                 18.540000  4.270000   \n",
       "937               moderate                 20.627273  4.381818   \n",
       "952                 severe                 23.666667  4.653333   \n",
       "\n",
       "measurement_name  Alkaline phosphatase  Aspartate aminotransferase  \\\n",
       "person_id                                                            \n",
       "259                                NaN                         NaN   \n",
       "354                          72.966667                   18.222222   \n",
       "892                          75.380000                   20.800000   \n",
       "937                          78.545455                   20.709091   \n",
       "952                          73.866667                   21.100000   \n",
       "\n",
       "measurement_name  Bilirubin.total  Body temp         BW        DBP  \\\n",
       "person_id                                                            \n",
       "259                           NaN  38.400000  49.500000  85.000000   \n",
       "354                     10.755556  39.091667  79.400000  83.700000   \n",
       "892                     10.780000  39.836364  99.600000  78.272727   \n",
       "937                     11.709091  39.716667  74.316667  75.250000   \n",
       "952                     10.100000  39.893750  66.000000  86.312500   \n",
       "\n",
       "measurement_name  Erythrocytes  ...  Hemoglobin  Leukocytes        MCH  \\\n",
       "person_id                       ...                                      \n",
       "259                        NaN  ...         NaN         NaN        NaN   \n",
       "354                   4.566667  ...   12.755556    3.455556  29.811111   \n",
       "892                   5.100000  ...   12.740000    3.380000  30.170000   \n",
       "937                   4.463636  ...   12.254545    3.490909  30.963636   \n",
       "952                   4.593333  ...   12.420000    3.533333  29.980000   \n",
       "\n",
       "measurement_name       MCHC        MCV       SaO2   Platelets   Protein  \\\n",
       "person_id                                                                 \n",
       "259                     NaN        NaN  83.700000         NaN       NaN   \n",
       "354               33.444444  88.477778  79.010000  120.488889  6.577778   \n",
       "892               33.850000  88.650000  81.490476  118.370000  6.910000   \n",
       "937               33.009091  91.654545  83.234783  127.236364  6.936364   \n",
       "952               33.733333  88.966667  82.993548  127.700000  6.693333   \n",
       "\n",
       "measurement_name         RR         SBP  \n",
       "person_id                                \n",
       "259               16.100000  115.000000  \n",
       "354               20.790000  117.500000  \n",
       "892               27.490909  120.818182  \n",
       "937               29.883333  111.250000  \n",
       "952               23.368750  130.062500  \n",
       "\n",
       "[5 rows x 23 columns]"
      ]
     },
     "execution_count": 27,
     "metadata": {},
     "output_type": "execute_result"
    }
   ],
   "source": [
    "df_set2.head()"
   ]
  },
  {
   "cell_type": "markdown",
   "id": "fd512a09",
   "metadata": {},
   "source": [
    "## Predictive analysis with set 2 to predict moderate or severe case"
   ]
  },
  {
   "cell_type": "markdown",
   "id": "a461bb4f",
   "metadata": {},
   "source": [
    "### Encode class labels and define X (features) and y (target) for predictive analysis"
   ]
  },
  {
   "cell_type": "code",
   "execution_count": 28,
   "id": "9df22416",
   "metadata": {},
   "outputs": [],
   "source": [
    "# Encode the category column and create the target variable y\n",
    "class_le = LabelEncoder()\n",
    "y =  class_le.fit_transform(df_set2['category'].values)"
   ]
  },
  {
   "cell_type": "code",
   "execution_count": 29,
   "id": "f4efb053",
   "metadata": {},
   "outputs": [],
   "source": [
    "X = df_set2.loc[:,df_set2.columns != 'category'].values"
   ]
  },
  {
   "cell_type": "code",
   "execution_count": 30,
   "id": "6db0c930",
   "metadata": {},
   "outputs": [
    {
     "data": {
      "text/plain": [
       "array(['moderate', 'severe'], dtype=object)"
      ]
     },
     "execution_count": 30,
     "metadata": {},
     "output_type": "execute_result"
    }
   ],
   "source": [
    "class_le.classes_"
   ]
  },
  {
   "cell_type": "markdown",
   "id": "d1b825b0",
   "metadata": {},
   "source": [
    "### Split the data"
   ]
  },
  {
   "cell_type": "markdown",
   "id": "321fc5fe",
   "metadata": {},
   "source": [
    "#### Split the data 80% into train and 20% into test set"
   ]
  },
  {
   "cell_type": "code",
   "execution_count": 31,
   "id": "3db2ff20",
   "metadata": {},
   "outputs": [],
   "source": [
    "X_train, X_test, y_train, y_test = train_test_split(X, y, test_size=0.2, random_state=1, stratify=y)"
   ]
  },
  {
   "cell_type": "markdown",
   "id": "3ee21a8c",
   "metadata": {},
   "source": [
    "Check the class distribution in the original data, train set and test set is almost the same"
   ]
  },
  {
   "cell_type": "code",
   "execution_count": 32,
   "id": "6ac0320b",
   "metadata": {},
   "outputs": [
    {
     "name": "stdout",
     "output_type": "stream",
     "text": [
      "The original data has moderate 71.2% and severe 28.8% patients.\n",
      "The train set has moderate 71.2% and severe 28.8% patients\n",
      "The test set has moderate 71.1% and severe 28.9% patients\n"
     ]
    }
   ],
   "source": [
    "print(f\"The original data has moderate {np.bincount(y)[0]*100/y.shape[0]:.1f}% and severe {np.bincount(y)[1]*100/y.shape[0]:.1f}% patients.\")\n",
    "print(f\"The train set has moderate {np.bincount(y_train)[0]*100/y_train.shape[0]:.1f}% and severe {np.bincount(y_train)[1]*100/y_train.shape[0]:.1f}% patients\")\n",
    "print(f\"The test set has moderate {np.bincount(y_test)[0]*100/y_test.shape[0]:.1f}% and severe {np.bincount(y_test)[1]*100/y_test.shape[0]:.1f}% patients\")"
   ]
  },
  {
   "cell_type": "markdown",
   "id": "8eedbc6a",
   "metadata": {},
   "source": [
    "### Pipeline for Random Forest"
   ]
  },
  {
   "cell_type": "code",
   "execution_count": null,
   "id": "d7a0301e",
   "metadata": {},
   "outputs": [],
   "source": [
    "pipe_rf = make_pipeline(SimpleImputer(missing_values=np.nan, strategy='mean'),\n",
    "                        RFECV(estimator=RandomForestClassifier(random_state=1), cv=5),\n",
    "                        RandomForestClassifier(random_state=1))"
   ]
  },
  {
   "cell_type": "markdown",
   "id": "6df69499",
   "metadata": {},
   "source": [
    "#### Grid search for optimal hyperparameter and accuracy on one test set"
   ]
  },
  {
   "cell_type": "markdown",
   "id": "5ea10359",
   "metadata": {},
   "source": [
    "Tune the n_estimators and criterion hyperparameters in Random Forest"
   ]
  },
  {
   "cell_type": "code",
   "execution_count": null,
   "id": "4c97639f",
   "metadata": {},
   "outputs": [],
   "source": [
    "param_grid_rf = [{'randomforestclassifier__n_estimators': [10, 100, 1000],\n",
    "                 'randomforestclassifier__criterion': ['gini', 'entropy']}\n",
    "                ]\n",
    "gs = GridSearchCV(estimator=pipe_rf,\n",
    "                 param_grid=param_grid_rf,\n",
    "                 scoring='accuracy',\n",
    "                 cv=5, n_jobs=-1)\n",
    "gs.fit(X_train, y_train)"
   ]
  },
  {
   "cell_type": "code",
   "execution_count": null,
   "id": "93521c37",
   "metadata": {},
   "outputs": [],
   "source": [
    "print(f\"The best validation accuracy is {gs.best_score_:.3f} utilizing Random Forest model with {gs.best_params_}\\\n",
    "parameters.\")\n",
    "print('Test accuracy: %.3f' % gs.score(X_test, y_test))"
   ]
  },
  {
   "cell_type": "markdown",
   "id": "60ebc2ae",
   "metadata": {},
   "source": [
    "#### Grid search for optimal hyperparameter and average cross-validation accuracy, f1 and roc_auc"
   ]
  },
  {
   "cell_type": "code",
   "execution_count": null,
   "id": "8c9c035d",
   "metadata": {},
   "outputs": [],
   "source": [
    "estimators = [pipe_lr, pipe_dt, pipe_rf]\n",
    "param_grids = [param_grid_lr, param_grid_dt, param_grid_rf]\n",
    "scorings = ['accuracy', 'f1', 'roc_auc']\n",
    "estimator_names = ['Logistic Regression', 'Decision Tree', 'Random Forest']"
   ]
  },
  {
   "cell_type": "code",
   "execution_count": null,
   "id": "5e619291",
   "metadata": {},
   "outputs": [],
   "source": [
    "score_list = []\n",
    "i=0\n",
    "for estimator, param_grid in zip(estimators, param_grids):\n",
    "    score_dict = {}\n",
    "    for scoring in scorings:\n",
    "        gs = GridSearchCV(estimator=estimator,\n",
    "                 param_grid=param_grid,\n",
    "                 scoring=scoring,\n",
    "                 cv=5, n_jobs=-1)\n",
    "        scores = cross_val_score(gs, X_train, y_train,\n",
    "                        scoring=scoring, cv=2, n_jobs=-1)\n",
    "        score_dict[scoring] = f'{np.mean(scores):.3f} +/- {np.std(scores):.3f}'\n",
    "        print(f'{estimator_names[i]} CV {scoring}: {np.mean(scores):.3f} +/- {np.std(scores):.3f}')\n",
    "    i += 1\n",
    "    score_list.append(score_dict)\n",
    "score_df = pd.DataFrame(score_list)\n",
    "print(score_df)"
   ]
  },
  {
   "cell_type": "code",
   "execution_count": null,
   "id": "dc49f5f0",
   "metadata": {},
   "outputs": [],
   "source": [
    "pipe_dt.named_steps.decisiontreeclassifier.get_params()"
   ]
  },
  {
   "cell_type": "code",
   "execution_count": null,
   "id": "c67fa645",
   "metadata": {},
   "outputs": [],
   "source": [
    "pipe_lr.named_steps.logisticregression.get_params()"
   ]
  },
  {
   "cell_type": "code",
   "execution_count": null,
   "id": "3936973d",
   "metadata": {},
   "outputs": [],
   "source": [
    "pipe_rf.named_steps.randomforestclassifier.get_params()"
   ]
  },
  {
   "cell_type": "code",
   "execution_count": 33,
   "id": "000259a4",
   "metadata": {},
   "outputs": [],
   "source": [
    "pipe_rf_fs_optHyp = make_pipeline(SimpleImputer(missing_values=np.nan, strategy='mean'),\n",
    "                        RFECV(estimator=RandomForestClassifier(random_state=1), cv=5),\n",
    "                        RandomForestClassifier(n_estimators=100, criterion='gini', random_state=1)) "
   ]
  },
  {
   "cell_type": "code",
   "execution_count": 34,
   "id": "005ec92e",
   "metadata": {},
   "outputs": [
    {
     "data": {
      "text/html": [
       "<style>#sk-container-id-1 {color: black;background-color: white;}#sk-container-id-1 pre{padding: 0;}#sk-container-id-1 div.sk-toggleable {background-color: white;}#sk-container-id-1 label.sk-toggleable__label {cursor: pointer;display: block;width: 100%;margin-bottom: 0;padding: 0.3em;box-sizing: border-box;text-align: center;}#sk-container-id-1 label.sk-toggleable__label-arrow:before {content: \"▸\";float: left;margin-right: 0.25em;color: #696969;}#sk-container-id-1 label.sk-toggleable__label-arrow:hover:before {color: black;}#sk-container-id-1 div.sk-estimator:hover label.sk-toggleable__label-arrow:before {color: black;}#sk-container-id-1 div.sk-toggleable__content {max-height: 0;max-width: 0;overflow: hidden;text-align: left;background-color: #f0f8ff;}#sk-container-id-1 div.sk-toggleable__content pre {margin: 0.2em;color: black;border-radius: 0.25em;background-color: #f0f8ff;}#sk-container-id-1 input.sk-toggleable__control:checked~div.sk-toggleable__content {max-height: 200px;max-width: 100%;overflow: auto;}#sk-container-id-1 input.sk-toggleable__control:checked~label.sk-toggleable__label-arrow:before {content: \"▾\";}#sk-container-id-1 div.sk-estimator input.sk-toggleable__control:checked~label.sk-toggleable__label {background-color: #d4ebff;}#sk-container-id-1 div.sk-label input.sk-toggleable__control:checked~label.sk-toggleable__label {background-color: #d4ebff;}#sk-container-id-1 input.sk-hidden--visually {border: 0;clip: rect(1px 1px 1px 1px);clip: rect(1px, 1px, 1px, 1px);height: 1px;margin: -1px;overflow: hidden;padding: 0;position: absolute;width: 1px;}#sk-container-id-1 div.sk-estimator {font-family: monospace;background-color: #f0f8ff;border: 1px dotted black;border-radius: 0.25em;box-sizing: border-box;margin-bottom: 0.5em;}#sk-container-id-1 div.sk-estimator:hover {background-color: #d4ebff;}#sk-container-id-1 div.sk-parallel-item::after {content: \"\";width: 100%;border-bottom: 1px solid gray;flex-grow: 1;}#sk-container-id-1 div.sk-label:hover label.sk-toggleable__label {background-color: #d4ebff;}#sk-container-id-1 div.sk-serial::before {content: \"\";position: absolute;border-left: 1px solid gray;box-sizing: border-box;top: 0;bottom: 0;left: 50%;z-index: 0;}#sk-container-id-1 div.sk-serial {display: flex;flex-direction: column;align-items: center;background-color: white;padding-right: 0.2em;padding-left: 0.2em;position: relative;}#sk-container-id-1 div.sk-item {position: relative;z-index: 1;}#sk-container-id-1 div.sk-parallel {display: flex;align-items: stretch;justify-content: center;background-color: white;position: relative;}#sk-container-id-1 div.sk-item::before, #sk-container-id-1 div.sk-parallel-item::before {content: \"\";position: absolute;border-left: 1px solid gray;box-sizing: border-box;top: 0;bottom: 0;left: 50%;z-index: -1;}#sk-container-id-1 div.sk-parallel-item {display: flex;flex-direction: column;z-index: 1;position: relative;background-color: white;}#sk-container-id-1 div.sk-parallel-item:first-child::after {align-self: flex-end;width: 50%;}#sk-container-id-1 div.sk-parallel-item:last-child::after {align-self: flex-start;width: 50%;}#sk-container-id-1 div.sk-parallel-item:only-child::after {width: 0;}#sk-container-id-1 div.sk-dashed-wrapped {border: 1px dashed gray;margin: 0 0.4em 0.5em 0.4em;box-sizing: border-box;padding-bottom: 0.4em;background-color: white;}#sk-container-id-1 div.sk-label label {font-family: monospace;font-weight: bold;display: inline-block;line-height: 1.2em;}#sk-container-id-1 div.sk-label-container {text-align: center;}#sk-container-id-1 div.sk-container {/* jupyter's `normalize.less` sets `[hidden] { display: none; }` but bootstrap.min.css set `[hidden] { display: none !important; }` so we also need the `!important` here to be able to override the default hidden behavior on the sphinx rendered scikit-learn.org. See: https://github.com/scikit-learn/scikit-learn/issues/21755 */display: inline-block !important;position: relative;}#sk-container-id-1 div.sk-text-repr-fallback {display: none;}</style><div id=\"sk-container-id-1\" class=\"sk-top-container\"><div class=\"sk-text-repr-fallback\"><pre>Pipeline(steps=[(&#x27;simpleimputer&#x27;, SimpleImputer()),\n",
       "                (&#x27;rfecv&#x27;,\n",
       "                 RFECV(cv=5, estimator=RandomForestClassifier(random_state=1))),\n",
       "                (&#x27;randomforestclassifier&#x27;,\n",
       "                 RandomForestClassifier(random_state=1))])</pre><b>In a Jupyter environment, please rerun this cell to show the HTML representation or trust the notebook. <br />On GitHub, the HTML representation is unable to render, please try loading this page with nbviewer.org.</b></div><div class=\"sk-container\" hidden><div class=\"sk-item sk-dashed-wrapped\"><div class=\"sk-label-container\"><div class=\"sk-label sk-toggleable\"><input class=\"sk-toggleable__control sk-hidden--visually\" id=\"sk-estimator-id-1\" type=\"checkbox\" ><label for=\"sk-estimator-id-1\" class=\"sk-toggleable__label sk-toggleable__label-arrow\">Pipeline</label><div class=\"sk-toggleable__content\"><pre>Pipeline(steps=[(&#x27;simpleimputer&#x27;, SimpleImputer()),\n",
       "                (&#x27;rfecv&#x27;,\n",
       "                 RFECV(cv=5, estimator=RandomForestClassifier(random_state=1))),\n",
       "                (&#x27;randomforestclassifier&#x27;,\n",
       "                 RandomForestClassifier(random_state=1))])</pre></div></div></div><div class=\"sk-serial\"><div class=\"sk-item\"><div class=\"sk-estimator sk-toggleable\"><input class=\"sk-toggleable__control sk-hidden--visually\" id=\"sk-estimator-id-2\" type=\"checkbox\" ><label for=\"sk-estimator-id-2\" class=\"sk-toggleable__label sk-toggleable__label-arrow\">SimpleImputer</label><div class=\"sk-toggleable__content\"><pre>SimpleImputer()</pre></div></div></div><div class=\"sk-item sk-dashed-wrapped\"><div class=\"sk-label-container\"><div class=\"sk-label sk-toggleable\"><input class=\"sk-toggleable__control sk-hidden--visually\" id=\"sk-estimator-id-3\" type=\"checkbox\" ><label for=\"sk-estimator-id-3\" class=\"sk-toggleable__label sk-toggleable__label-arrow\">rfecv: RFECV</label><div class=\"sk-toggleable__content\"><pre>RFECV(cv=5, estimator=RandomForestClassifier(random_state=1))</pre></div></div></div><div class=\"sk-parallel\"><div class=\"sk-parallel-item\"><div class=\"sk-item\"><div class=\"sk-label-container\"><div class=\"sk-label sk-toggleable\"><input class=\"sk-toggleable__control sk-hidden--visually\" id=\"sk-estimator-id-4\" type=\"checkbox\" ><label for=\"sk-estimator-id-4\" class=\"sk-toggleable__label sk-toggleable__label-arrow\">estimator: RandomForestClassifier</label><div class=\"sk-toggleable__content\"><pre>RandomForestClassifier(random_state=1)</pre></div></div></div><div class=\"sk-serial\"><div class=\"sk-item\"><div class=\"sk-estimator sk-toggleable\"><input class=\"sk-toggleable__control sk-hidden--visually\" id=\"sk-estimator-id-5\" type=\"checkbox\" ><label for=\"sk-estimator-id-5\" class=\"sk-toggleable__label sk-toggleable__label-arrow\">RandomForestClassifier</label><div class=\"sk-toggleable__content\"><pre>RandomForestClassifier(random_state=1)</pre></div></div></div></div></div></div></div></div><div class=\"sk-item\"><div class=\"sk-estimator sk-toggleable\"><input class=\"sk-toggleable__control sk-hidden--visually\" id=\"sk-estimator-id-6\" type=\"checkbox\" ><label for=\"sk-estimator-id-6\" class=\"sk-toggleable__label sk-toggleable__label-arrow\">RandomForestClassifier</label><div class=\"sk-toggleable__content\"><pre>RandomForestClassifier(random_state=1)</pre></div></div></div></div></div></div></div>"
      ],
      "text/plain": [
       "Pipeline(steps=[('simpleimputer', SimpleImputer()),\n",
       "                ('rfecv',\n",
       "                 RFECV(cv=5, estimator=RandomForestClassifier(random_state=1))),\n",
       "                ('randomforestclassifier',\n",
       "                 RandomForestClassifier(random_state=1))])"
      ]
     },
     "execution_count": 34,
     "metadata": {},
     "output_type": "execute_result"
    }
   ],
   "source": [
    "pipe_rf_fs_optHyp.fit(X_train, y_train)"
   ]
  },
  {
   "cell_type": "code",
   "execution_count": 35,
   "id": "9bff7d0a",
   "metadata": {},
   "outputs": [],
   "source": [
    "y_pred = pipe_rf_fs_optHyp.predict(X_test)"
   ]
  },
  {
   "cell_type": "code",
   "execution_count": 36,
   "id": "d3075a2d",
   "metadata": {},
   "outputs": [
    {
     "name": "stdout",
     "output_type": "stream",
     "text": [
      "0.3870967741935484\n",
      "0.75\n",
      "0.6085858585858586\n"
     ]
    }
   ],
   "source": [
    "from sklearn.metrics import f1_score\n",
    "print(f1_score(y_true=y_test, y_pred=y_pred))\n",
    "\n",
    "from sklearn.metrics import accuracy_score\n",
    "print(accuracy_score(y_true=y_test, y_pred=y_pred))\n",
    "\n",
    "from sklearn.metrics import roc_auc_score\n",
    "print(roc_auc_score(y_test, y_pred))"
   ]
  },
  {
   "cell_type": "code",
   "execution_count": 37,
   "id": "0ca926be",
   "metadata": {},
   "outputs": [],
   "source": [
    "from sklearn.metrics import confusion_matrix"
   ]
  },
  {
   "cell_type": "code",
   "execution_count": 38,
   "id": "a0160a2d",
   "metadata": {},
   "outputs": [],
   "source": [
    "confmat = confusion_matrix(y_true=y_test, y_pred=y_pred)"
   ]
  },
  {
   "cell_type": "code",
   "execution_count": 39,
   "id": "a982abcf",
   "metadata": {},
   "outputs": [
    {
     "name": "stdout",
     "output_type": "stream",
     "text": [
      "[[102   6]\n",
      " [ 32  12]]\n"
     ]
    }
   ],
   "source": [
    "print(confmat)"
   ]
  },
  {
   "cell_type": "code",
   "execution_count": 40,
   "id": "012e7f44",
   "metadata": {
    "scrolled": true
   },
   "outputs": [
    {
     "data": {
      "image/png": "[encoded data removed]",
      "text/plain": [
       "<Figure size 250x250 with 1 Axes>"
      ]
     },
     "metadata": {},
     "output_type": "display_data"
    }
   ],
   "source": [
    "fig, ax = plt.subplots(figsize=(2.5, 2.5))\n",
    "ax.matshow(confmat, cmap=plt.cm.Blues, alpha=0.3)\n",
    "for i in range(confmat.shape[0]):\n",
    "    for j in range(confmat.shape[1]):\n",
    "        ax.text(x=j, y=i, s=confmat[i, j], va='center', ha='center')\n",
    "plt.xlabel('predicted label')\n",
    "plt.ylabel('true label')\n",
    "ax.set_xticks(np.arange(np.size(class_le.classes_)))\n",
    "ax.set_xticklabels(class_le.classes_)\n",
    "ax.tick_params(axis=\"x\", bottom=True, top=True, labelbottom=True, labeltop=True)\n",
    "ax.set_yticks(np.arange(np.size(class_le.classes_)))\n",
    "ax.set_yticklabels(class_le.classes_)\n",
    "plt.show()"
   ]
  },
  {
   "cell_type": "code",
   "execution_count": 41,
   "id": "90412ab7",
   "metadata": {},
   "outputs": [],
   "source": [
    "from sklearn.metrics import roc_curve, auc"
   ]
  },
  {
   "cell_type": "code",
   "execution_count": 42,
   "id": "cc18b779",
   "metadata": {},
   "outputs": [],
   "source": [
    "from scipy import interp"
   ]
  },
  {
   "cell_type": "code",
   "execution_count": 43,
   "id": "79fefa8b",
   "metadata": {},
   "outputs": [],
   "source": [
    "probas = pipe_rf_fs_optHyp.predict_proba(X_test)"
   ]
  },
  {
   "cell_type": "code",
   "execution_count": 45,
   "id": "71cacb92",
   "metadata": {},
   "outputs": [],
   "source": [
    "fpr, tpr, thresholds = roc_curve(y_test, probas[:,0], pos_label=0)"
   ]
  },
  {
   "cell_type": "code",
   "execution_count": 46,
   "id": "feb793b7",
   "metadata": {},
   "outputs": [],
   "source": [
    "roc_auc = auc(fpr, tpr)"
   ]
  },
  {
   "cell_type": "code",
   "execution_count": 55,
   "id": "5bb35ca9",
   "metadata": {},
   "outputs": [
    {
     "data": {
      "image/png": "[encoded data removed]",
      "text/plain": [
       "<Figure size 700x500 with 1 Axes>"
      ]
     },
     "metadata": {},
     "output_type": "display_data"
    }
   ],
   "source": [
    "fig = plt.figure(figsize=(7, 5))\n",
    "mean_fpr = np.linspace(0, 1, 100)\n",
    "mean_tpr = interp(mean_fpr, fpr, tpr)\n",
    "plt.plot(fpr, tpr, label=f'area = {roc_auc:.2f}')\n",
    "plt.plot([0, 1],[0, 1], ls='--', c='grey', label='random guessing')\n",
    "plt.plot([0, 0, 1], [0, 1, 1], ls=':', c='black', label='perfect performance')\n",
    "plt.xlabel('false positive rate')\n",
    "plt.ylabel('true positive rate')\n",
    "plt.legend(loc=\"lower right\")\n",
    "plt.show()"
   ]
  },
  {
   "cell_type": "code",
   "execution_count": null,
   "id": "4ee99b42",
   "metadata": {},
   "outputs": [],
   "source": []
  }
 ],
 "metadata": {
  "kernelspec": {
   "display_name": "Python 3 (ipykernel)",
   "language": "python",
   "name": "python3"
  },
  "language_info": {
   "codemirror_mode": {
    "name": "ipython",
    "version": 3
   },
   "file_extension": ".py",
   "mimetype": "text/x-python",
   "name": "python",
   "nbconvert_exporter": "python",
   "pygments_lexer": "ipython3",
   "version": "3.8.16"
  }
 },
 "nbformat": 4,
 "nbformat_minor": 5
}
